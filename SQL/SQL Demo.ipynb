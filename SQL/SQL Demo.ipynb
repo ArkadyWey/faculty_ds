{
 "cells": [
  {
   "cell_type": "markdown",
   "metadata": {},
   "source": [
    "# SQL"
   ]
  },
  {
   "cell_type": "code",
   "execution_count": null,
   "metadata": {},
   "outputs": [],
   "source": [
    "import pandas as pd\n",
    "import sqlalchemy"
   ]
  },
  {
   "cell_type": "markdown",
   "metadata": {},
   "source": [
    "## Connect to database"
   ]
  },
  {
   "cell_type": "code",
   "execution_count": null,
   "metadata": {},
   "outputs": [],
   "source": [
    "# Connect to the movie db\n",
    "engine = sqlalchemy.create_engine(\n",
    "    \"postgresql+psycopg2://\", \n",
    "    connect_args={\"database\": \"postgres\", \"user\": \"faculty\", \"host\": \"/var/run/postgresql\"}\n",
    ")\n",
    "con = engine.connect()\n",
    "con.execute(\"SET schema 'input'\")"
   ]
  },
  {
   "cell_type": "markdown",
   "metadata": {},
   "source": [
    "## Create tables\n",
    "Create simple `customers` table from slides:"
   ]
  },
  {
   "cell_type": "code",
   "execution_count": null,
   "metadata": {},
   "outputs": [],
   "source": [
    "con.execute(\"CREATE SEQUENCE customers_id_seq\")\n",
    "con.execute(\"\"\"\n",
    "CREATE TABLE customers (\n",
    "    id BIGINT DEFAULT NEXTVAL('customers_id_seq') PRIMARY KEY,\n",
    "    name TEXT NOT NULL,\n",
    "    address TEXT\n",
    ")\n",
    "\"\"\")"
   ]
  },
  {
   "cell_type": "markdown",
   "metadata": {},
   "source": [
    "Create `product` table from slides:"
   ]
  },
  {
   "cell_type": "code",
   "execution_count": null,
   "metadata": {},
   "outputs": [],
   "source": [
    "con.execute(\"CREATE SEQUENCE products_id_seq\")\n",
    "con.execute(\"\"\"\n",
    "CREATE TABLE products (\n",
    "    id BIGINT DEFAULT NEXTVAL('products_id_seq') PRIMARY KEY,\n",
    "    name TEXT NOT NULL\n",
    ")\n",
    "\"\"\")"
   ]
  },
  {
   "cell_type": "markdown",
   "metadata": {},
   "source": [
    "Create `sales` table from slides:"
   ]
  },
  {
   "cell_type": "code",
   "execution_count": null,
   "metadata": {},
   "outputs": [],
   "source": [
    "con.execute(\"CREATE SEQUENCE sales_id_seq\")\n",
    "con.execute(\"\"\"\n",
    "CREATE TABLE sales (\n",
    "    id BIGINT DEFAULT NEXTVAL('sales_id_seq') PRIMARY KEY,\n",
    "    customer_id BIGINT,\n",
    "    product_id BIGINT,\n",
    "    quantity BIGINT,\n",
    "    FOREIGN KEY (customer_id) REFERENCES customers(id) ON DELETE CASCADE,\n",
    "    FOREIGN KEY (product_id) REFERENCES products(id) ON DELETE CASCADE\n",
    ")\n",
    "\"\"\")"
   ]
  },
  {
   "cell_type": "markdown",
   "metadata": {},
   "source": [
    "# Insert values"
   ]
  },
  {
   "cell_type": "code",
   "execution_count": null,
   "metadata": {},
   "outputs": [],
   "source": [
    "con.execute(\"INSERT INTO customers (name, address) VALUES ('Andy Brookes', 'London')\")\n",
    "con.execute(\"INSERT INTO customers (name, address) VALUES ('Jake Dunn', 'London')\")\n",
    "con.execute(\"INSERT INTO customers (name, address) VALUES ('Bill Gates', 'Seattle')\")\n",
    "con.execute(\"INSERT INTO customers (name, address) VALUES ('Steve Jobs', 'Palo Alto')\")\n",
    "con.execute(\"INSERT INTO customers (name, address) VALUES ('Random guy', NULL)\")"
   ]
  },
  {
   "cell_type": "code",
   "execution_count": null,
   "metadata": {},
   "outputs": [],
   "source": [
    "con.execute(\"INSERT INTO products (name) VALUES ('iPhone')\")\n",
    "con.execute(\"INSERT INTO products (name) VALUES ('Xbox')\")\n",
    "con.execute(\"INSERT INTO products (name) VALUES ('PlayStation')\")\n",
    "con.execute(\"INSERT INTO products (name) VALUES ('Wii')\")"
   ]
  },
  {
   "cell_type": "code",
   "execution_count": null,
   "metadata": {},
   "outputs": [],
   "source": [
    "con.execute(\"\"\"\n",
    "    INSERT INTO sales (customer_id, product_id, quantity)\n",
    "    VALUES (1, 1, 1), (2, 2, 3), (3, 1, 2), (5, 3, 10)\n",
    "\"\"\")"
   ]
  },
  {
   "cell_type": "markdown",
   "metadata": {},
   "source": [
    "## Select results\n",
    "\n",
    "The full `customers` table:"
   ]
  },
  {
   "cell_type": "code",
   "execution_count": null,
   "metadata": {},
   "outputs": [],
   "source": [
    "q = \"\"\"\n",
    "SELECT * \n",
    "FROM customers \n",
    "\"\"\"\n",
    "df = pd.read_sql(q, con)\n",
    "df"
   ]
  },
  {
   "cell_type": "markdown",
   "metadata": {},
   "source": [
    "The full `products` table:"
   ]
  },
  {
   "cell_type": "code",
   "execution_count": null,
   "metadata": {},
   "outputs": [],
   "source": [
    "q = \"\"\"\n",
    "SELECT * \n",
    "FROM products \n",
    "\"\"\"\n",
    "df = pd.read_sql(q, con)\n",
    "df"
   ]
  },
  {
   "cell_type": "markdown",
   "metadata": {},
   "source": [
    "The full `sales` table:"
   ]
  },
  {
   "cell_type": "code",
   "execution_count": null,
   "metadata": {},
   "outputs": [],
   "source": [
    "q = \"\"\"\n",
    "SELECT * \n",
    "FROM sales \n",
    "\"\"\"\n",
    "df = pd.read_sql(q, con)\n",
    "df"
   ]
  },
  {
   "cell_type": "markdown",
   "metadata": {},
   "source": [
    "Perform a projection, i.e. taking vertical slices of a table, and only recording values once:"
   ]
  },
  {
   "cell_type": "code",
   "execution_count": null,
   "metadata": {},
   "outputs": [],
   "source": [
    "q = \"\"\"\n",
    "SELECT DISTINCT address \n",
    "FROM customers \n",
    "\"\"\"\n",
    "df = pd.read_sql(q, con)\n",
    "df"
   ]
  },
  {
   "cell_type": "markdown",
   "metadata": {},
   "source": [
    "Perform a selection, i.e. filter rows of a table based on some predicate you are interested in:"
   ]
  },
  {
   "cell_type": "code",
   "execution_count": null,
   "metadata": {},
   "outputs": [],
   "source": [
    "q = \"\"\"\n",
    "SELECT name \n",
    "FROM customers \n",
    "WHERE address = 'London'\n",
    "\"\"\"\n",
    "df = pd.read_sql(q, con)\n",
    "df"
   ]
  },
  {
   "cell_type": "markdown",
   "metadata": {},
   "source": [
    "You can order your results:"
   ]
  },
  {
   "cell_type": "code",
   "execution_count": null,
   "metadata": {},
   "outputs": [],
   "source": [
    "q = \"\"\"\n",
    "SELECT name \n",
    "FROM customers \n",
    "ORDER BY name ASC\n",
    "\"\"\"\n",
    "df = pd.read_sql(q, con)\n",
    "df"
   ]
  },
  {
   "cell_type": "markdown",
   "metadata": {},
   "source": [
    "You can also aggregate results:"
   ]
  },
  {
   "cell_type": "code",
   "execution_count": null,
   "metadata": {},
   "outputs": [],
   "source": [
    "q = \"\"\"\n",
    "SELECT product_id, SUM(quantity) \n",
    "FROM sales \n",
    "GROUP BY product_id\n",
    "\"\"\"\n",
    "df = pd.read_sql(q, con)\n",
    "df"
   ]
  },
  {
   "cell_type": "code",
   "execution_count": null,
   "metadata": {},
   "outputs": [],
   "source": [
    "q = \"\"\"\n",
    "SELECT product_id, SUM(quantity) AS orders\n",
    "FROM sales \n",
    "GROUP BY product_id\n",
    "\"\"\"\n",
    "df = pd.read_sql(q, con)\n",
    "df"
   ]
  },
  {
   "cell_type": "markdown",
   "metadata": {},
   "source": [
    "Using `IN` in predicates, to check membership to a collection:"
   ]
  },
  {
   "cell_type": "code",
   "execution_count": null,
   "metadata": {},
   "outputs": [],
   "source": [
    "q = \"\"\"\n",
    "SELECT name \n",
    "FROM customers \n",
    "WHERE address IN ('Palo Alto', 'Seattle')\n",
    "\"\"\"\n",
    "df = pd.read_sql(q, con)\n",
    "df"
   ]
  },
  {
   "cell_type": "markdown",
   "metadata": {},
   "source": [
    "And of course if we negate..."
   ]
  },
  {
   "cell_type": "code",
   "execution_count": null,
   "metadata": {},
   "outputs": [],
   "source": [
    "q = \"\"\"\n",
    "SELECT name \n",
    "FROM customers \n",
    "WHERE address NOT IN ('Palo Alto', 'Seattle')\n",
    "\"\"\"\n",
    "df = pd.read_sql(q, con)\n",
    "df"
   ]
  },
  {
   "cell_type": "markdown",
   "metadata": {},
   "source": [
    "WÄT???? :|\n",
    "\n",
    "What happened to `Random guy`?\n",
    "\n",
    "NULL in SQL can be confusing. This is because you shouldn't think of them as a `None`, but rather as an `Unknown` value. As a result, e.g., `NULL IN <anything>` is `NULL`.\n",
    "\n",
    "When writing predicates involving NULL remember not to use `=` but `IS`, this will make your life easier:"
   ]
  },
  {
   "cell_type": "code",
   "execution_count": null,
   "metadata": {},
   "outputs": [],
   "source": [
    "q = \"\"\"\n",
    "SELECT name \n",
    "FROM customers \n",
    "WHERE address IS NOT NULL\n",
    "\"\"\"\n",
    "df = pd.read_sql(q, con)\n",
    "df"
   ]
  },
  {
   "cell_type": "markdown",
   "metadata": {},
   "source": [
    "Set operations: `INTERSECT` and `UNION`"
   ]
  },
  {
   "cell_type": "code",
   "execution_count": null,
   "metadata": {},
   "outputs": [],
   "source": [
    "q = \"\"\"\n",
    "(SELECT name, address \n",
    "FROM customers\n",
    "WHERE address IS NOT NULL)\n",
    "INTERSECT\n",
    "(SELECT name, address\n",
    "FROM customers\n",
    "WHERE id > 1)\n",
    "\"\"\"\n",
    "df = pd.read_sql(q, con)\n",
    "df"
   ]
  },
  {
   "cell_type": "code",
   "execution_count": null,
   "metadata": {},
   "outputs": [],
   "source": [
    "q = \"\"\"\n",
    "(SELECT name, address \n",
    "FROM customers\n",
    "WHERE address IS NOT NULL)\n",
    "UNION\n",
    "(SELECT name, address\n",
    "FROM customers\n",
    "WHERE id > 1)\n",
    "\"\"\"\n",
    "df = pd.read_sql(q, con)\n",
    "df"
   ]
  },
  {
   "cell_type": "markdown",
   "metadata": {},
   "source": [
    "Aggregating results from multiple tables with JOIN. "
   ]
  },
  {
   "cell_type": "code",
   "execution_count": null,
   "metadata": {},
   "outputs": [],
   "source": [
    "q = \"\"\"\n",
    "SELECT products.name, sales.quantity \n",
    "FROM products\n",
    "JOIN sales\n",
    "ON products.id = sales.product_id\n",
    "\"\"\"\n",
    "df = pd.read_sql(q, con)\n",
    "df"
   ]
  },
  {
   "cell_type": "markdown",
   "metadata": {},
   "source": [
    "Example of LEFT JOIN"
   ]
  },
  {
   "cell_type": "code",
   "execution_count": null,
   "metadata": {},
   "outputs": [],
   "source": [
    "q = \"\"\"\n",
    "SELECT products.name, sales.quantity \n",
    "FROM products\n",
    "LEFT OUTER JOIN sales\n",
    "ON products.id = sales.product_id\n",
    "\"\"\"\n",
    "df = pd.read_sql(q, con)\n",
    "df"
   ]
  },
  {
   "cell_type": "markdown",
   "metadata": {},
   "source": [
    "Example of less common `JOIN`:"
   ]
  },
  {
   "cell_type": "code",
   "execution_count": null,
   "metadata": {},
   "outputs": [],
   "source": [
    "q = \"\"\"\n",
    "SELECT products.name, sales.quantity \n",
    "FROM products\n",
    "FULL OUTER JOIN sales\n",
    "ON products.id = sales.product_id\n",
    "WHERE products.id IS NULL OR sales.id IS NULL\n",
    "\"\"\"\n",
    "df = pd.read_sql(q, con)\n",
    "df"
   ]
  },
  {
   "cell_type": "markdown",
   "metadata": {},
   "source": [
    "## Update values"
   ]
  },
  {
   "cell_type": "markdown",
   "metadata": {},
   "source": [
    "Update statements can grow more complicated, but here is a taster:"
   ]
  },
  {
   "cell_type": "code",
   "execution_count": null,
   "metadata": {},
   "outputs": [],
   "source": [
    "con.execute(\"UPDATE customers SET name = 'Andrew Brookes' WHERE name = 'Andy Brookes'\")\n",
    "q = \"\"\"\n",
    "SELECT *\n",
    "FROM customers\n",
    "\"\"\"\n",
    "df = pd.read_sql(q, con)\n",
    "df"
   ]
  },
  {
   "cell_type": "markdown",
   "metadata": {},
   "source": [
    "## Delete entries"
   ]
  },
  {
   "cell_type": "markdown",
   "metadata": {},
   "source": [
    "A simple example of how to delete rows matching a filer:"
   ]
  },
  {
   "cell_type": "code",
   "execution_count": null,
   "metadata": {},
   "outputs": [],
   "source": [
    "con.execute(\"DELETE FROM customers WHERE name = 'Andrew Brookes'\")\n",
    "q = \"\"\"\n",
    "SELECT *\n",
    "FROM customers\n",
    "\"\"\"\n",
    "df = pd.read_sql(q, con)\n",
    "df"
   ]
  },
  {
   "cell_type": "markdown",
   "metadata": {},
   "source": [
    "## Drop tables -- BE CAREFUL!!! :@\n",
    "\n",
    "Deleting tables is not something you will have to do too often, so when doing this it is worth being extra careful. You do NOT want to be dropping tables late on a Friday night, especially if you want to avoid explaining a client/manager why you lost all your data :)\n",
    "\n",
    "Let's remove the tables we have created so far, to leave us with a clean state for the exercise:"
   ]
  },
  {
   "cell_type": "code",
   "execution_count": null,
   "metadata": {},
   "outputs": [],
   "source": [
    "con.execute(\"DROP TABLE sales\")\n",
    "con.execute(\"DROP SEQUENCE sales_id_seq\")\n",
    "\n",
    "con.execute(\"DROP TABLE products\")\n",
    "con.execute(\"DROP SEQUENCE products_id_seq\")\n",
    "\n",
    "con.execute(\"DROP TABLE customers\")\n",
    "con.execute(\"DROP SEQUENCE customers_id_seq\")"
   ]
  }
 ],
 "metadata": {
  "kernelspec": {
   "display_name": "Python [conda env:Python3]",
   "language": "python",
   "name": "conda-env-Python3-py"
  },
  "language_info": {
   "codemirror_mode": {
    "name": "ipython",
    "version": 3
   },
   "file_extension": ".py",
   "mimetype": "text/x-python",
   "name": "python",
   "nbconvert_exporter": "python",
   "pygments_lexer": "ipython3",
   "version": "3.6.10"
  }
 },
 "nbformat": 4,
 "nbformat_minor": 2
}
