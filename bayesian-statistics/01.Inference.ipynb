{
 "cells": [
  {
   "cell_type": "code",
   "execution_count": null,
   "metadata": {},
   "outputs": [],
   "source": [
    "%config InlineBackend.figure_format = \"retina\"\n",
    "import numpy as np\n",
    "import matplotlib.pyplot as plt\n",
    "import scipy\n",
    "import scipy.integrate\n",
    "import scipy.stats as st\n",
    "\n",
    "plt.rcParams[\"font.size\"] = 14"
   ]
  },
  {
   "cell_type": "markdown",
   "metadata": {},
   "source": [
    "# Forward probability"
   ]
  },
  {
   "cell_type": "markdown",
   "metadata": {},
   "source": [
    "## Example 1"
   ]
  },
  {
   "cell_type": "markdown",
   "metadata": {},
   "source": [
    "**Q**: Suppose the incubation period for a viral disease follows an exponential distribution with rate 7. A patient is then infected with the virus. What is the probability that s/he will show symptoms within the first 3 days?\n",
    "\n",
    "**A**: The exponential density is given by:\n",
    "\n",
    "$$p(y\\vert\\beta) = \\frac{1}{\\beta}\\exp(-\\frac{y}{\\beta}) $$\n",
    "\n",
    "To answer the question, we need to calculate $Pr(y\\leq 3 \\vert \\beta = 7)$, which is just the cumulative distribution evaluated at $y=3$:\n",
    "\n",
    "$$ \\int_0^3 \\frac{1}{7} \\exp (-7y) \\mathrm{d}y $$\n"
   ]
  },
  {
   "cell_type": "code",
   "execution_count": null,
   "metadata": {},
   "outputs": [],
   "source": [
    "rate = 7"
   ]
  },
  {
   "cell_type": "code",
   "execution_count": null,
   "metadata": {},
   "outputs": [],
   "source": [
    "def exponential_density(y, beta):\n",
    "    return np.exp(-y/beta) / beta"
   ]
  },
  {
   "cell_type": "code",
   "execution_count": null,
   "metadata": {},
   "outputs": [],
   "source": [
    "# We can compute the integral \"ourselves\"\n",
    "result, error = scipy.integrate.quad(exponential_density, 0, 3, args=(rate,))\n",
    "print(f\"Result: {result:0.5f}\")"
   ]
  },
  {
   "cell_type": "code",
   "execution_count": null,
   "metadata": {},
   "outputs": [],
   "source": [
    "# Or, in this case, use the readily available CDF\n",
    "result = st.expon(scale=rate).cdf(3)\n",
    "print(f\"Result: {result:0.5f}\")"
   ]
  },
  {
   "cell_type": "markdown",
   "metadata": {},
   "source": [
    "## Example 2"
   ]
  },
  {
   "cell_type": "markdown",
   "metadata": {},
   "source": [
    "Suppose the incubation period for a viral disease follows an exponential distribution with rate 7. Now 10 patients are infected with the virus at the same time. How long should we wait for all patients to show symptoms? Provide 95% confidence intervals"
   ]
  },
  {
   "cell_type": "markdown",
   "metadata": {},
   "source": [
    "**Answer**: This question would require us to do some more complicated integrals. We won't bother. Instead, we solve it via data simulations:"
   ]
  },
  {
   "cell_type": "code",
   "execution_count": null,
   "metadata": {},
   "outputs": [],
   "source": [
    "n_patients = 10\n",
    "incubation_period = 7\n",
    "n_simulations = 10_000 # If we want higher precision, we increase the number of iterations"
   ]
  },
  {
   "cell_type": "code",
   "execution_count": null,
   "metadata": {},
   "outputs": [],
   "source": [
    "results = []\n",
    "for _ in range(n_simulations):\n",
    "    times = np.random.exponential(incubation_period, size=n_patients)\n",
    "    max_time = max(times)\n",
    "    results.append(max_time)"
   ]
  },
  {
   "cell_type": "code",
   "execution_count": null,
   "metadata": {},
   "outputs": [],
   "source": [
    "plt.hist(results, bins=30, density=True)\n",
    "plt.xlabel(\"Days\")\n",
    "plt.show()"
   ]
  },
  {
   "cell_type": "code",
   "execution_count": null,
   "metadata": {},
   "outputs": [],
   "source": [
    "mean = np.mean(results)\n",
    "low, high = np.quantile(results, [0.025, 0.975])\n",
    "\n",
    "print(f\"Expected:     {np.mean(results):2.1f} days\")\n",
    "print(f\"95% interval: {low:2.1f} - {high:2.1f} days\")"
   ]
  },
  {
   "cell_type": "markdown",
   "metadata": {},
   "source": [
    "# Inverse probability"
   ]
  },
  {
   "cell_type": "markdown",
   "metadata": {},
   "source": [
    "Suppose 10 patients are infected with a given virus at the same time. They start showing symptoms some time later (see table below). What is the incubation period of this virus?"
   ]
  },
  {
   "cell_type": "code",
   "execution_count": null,
   "metadata": {},
   "outputs": [],
   "source": [
    "ys = [9.3, 3.0, 0.7, 11.3, 3.3, 2.3, 14.9, 0.2, 29.5, 16.2]"
   ]
  },
  {
   "cell_type": "code",
   "execution_count": null,
   "metadata": {},
   "outputs": [],
   "source": [
    "# consider first a single observation, say y=9.3, what does this say about the incubation period?"
   ]
  },
  {
   "cell_type": "code",
   "execution_count": null,
   "metadata": {},
   "outputs": [],
   "source": [
    "# likelihood for y=9.3, beta = 1, 10, 20\n",
    "exponential_density(9.3, beta=np.array([1, 10, 20]))"
   ]
  },
  {
   "cell_type": "code",
   "execution_count": null,
   "metadata": {},
   "outputs": [],
   "source": [
    "# likelihood for y=3.0, beta = 1, 10, 20\n",
    "exponential_density(3, beta=np.array([1, 10, 20]))"
   ]
  },
  {
   "cell_type": "code",
   "execution_count": null,
   "metadata": {},
   "outputs": [],
   "source": [
    "# likelihood for y=14.9, beta = 1, 10, 20\n",
    "exponential_density(14.9, beta=np.array([1, 10, 20]))"
   ]
  },
  {
   "cell_type": "code",
   "execution_count": null,
   "metadata": {},
   "outputs": [],
   "source": [
    "# lets actually plot the likelihoods for many more values of beta so that we can understand the behaviour\n",
    "\n",
    "beta_space = np.linspace(0.1, 40, num=300)\n",
    "for y in [9.3, 3.0, 14.9]: # selected patients\n",
    "    likelihood = exponential_density(y, beta_space)\n",
    "    plt.plot(beta_space, likelihood, label=f\"y={y:2.1f}\")\n",
    "plt.xlabel(\"Beta\")\n",
    "plt.ylabel(\"Likelihood\")\n",
    "plt.legend()\n",
    "plt.show()"
   ]
  },
  {
   "cell_type": "code",
   "execution_count": null,
   "metadata": {},
   "outputs": [],
   "source": [
    "# Assuming that the observations are conditionally independent, we can compute the likelihood of all our data for any value of beta\n",
    "# by simply multiplying the individual likelihoods"
   ]
  },
  {
   "cell_type": "code",
   "execution_count": null,
   "metadata": {},
   "outputs": [],
   "source": [
    "def exponential_likelihood(y, beta):\n",
    "    y = np.atleast_1d(y)  # cast to 1d so that this works also on scalar input\n",
    "    n = len(y)\n",
    "    num = np.exp(-(1/beta) * sum(y))\n",
    "    den = beta**n\n",
    "    return num / den"
   ]
  },
  {
   "cell_type": "code",
   "execution_count": null,
   "metadata": {},
   "outputs": [],
   "source": [
    "# example, likelihood for beta = 3\n",
    "exponential_likelihood(ys, beta=3)"
   ]
  },
  {
   "cell_type": "code",
   "execution_count": null,
   "metadata": {},
   "outputs": [],
   "source": [
    "# example, likelihood for beta = 10\n",
    "exponential_likelihood(ys, beta=10)"
   ]
  },
  {
   "cell_type": "code",
   "execution_count": null,
   "metadata": {},
   "outputs": [],
   "source": [
    "# now do it for many values of beta from 0 to 40"
   ]
  },
  {
   "cell_type": "code",
   "execution_count": null,
   "metadata": {},
   "outputs": [],
   "source": [
    "likelihoods = exponential_likelihood(ys, beta_space)"
   ]
  },
  {
   "cell_type": "code",
   "execution_count": null,
   "metadata": {},
   "outputs": [],
   "source": [
    "plt.plot(beta_space, likelihoods)\n",
    "plt.xlabel(\"beta\")\n",
    "plt.ylabel(\"likelihood\")\n",
    "plt.show()"
   ]
  },
  {
   "cell_type": "code",
   "execution_count": null,
   "metadata": {},
   "outputs": [],
   "source": [
    "# becasuse of the incredibly small scale on the y axis,\n",
    "# it is often better to work with the logarithm of likelihood.\n",
    "# This does not affect the position of the maximum because the log is a monotonic function"
   ]
  },
  {
   "cell_type": "code",
   "execution_count": null,
   "metadata": {},
   "outputs": [],
   "source": [
    "def exponential_log_likelihood(ys, beta):\n",
    "    n = len(np.atleast_1d(ys)) # cast to 1d so that this works also on scalar values\n",
    "    log_num = -(1/beta) * sum(ys)\n",
    "    log_den = n * np.log(beta)\n",
    "    return log_num - log_den"
   ]
  },
  {
   "cell_type": "code",
   "execution_count": null,
   "metadata": {},
   "outputs": [],
   "source": [
    "log_likelihoods = exponential_log_likelihood(ys, beta_space)"
   ]
  },
  {
   "cell_type": "code",
   "execution_count": null,
   "metadata": {},
   "outputs": [],
   "source": [
    "plt.plot(beta_space, log_likelihoods)\n",
    "plt.xlabel(\"beta\")\n",
    "plt.ylabel(\"log-likelihood\")\n",
    "plt.show()"
   ]
  },
  {
   "cell_type": "code",
   "execution_count": null,
   "metadata": {},
   "outputs": [],
   "source": [
    "# let's zoom in to better resolve what is happening\n",
    "plt.plot(beta_space[40:140], log_likelihoods[40:140])\n",
    "plt.xlabel(\"beta\")\n",
    "plt.ylabel(\"log-likelihood\")\n",
    "plt.show()"
   ]
  },
  {
   "cell_type": "code",
   "execution_count": null,
   "metadata": {},
   "outputs": [],
   "source": [
    "# find the maximum-likelihood estimate (MLE) by\n",
    "# minimizing the negative of the log likelihood\n",
    "mle = scipy.optimize.minimize_scalar(\n",
    "    lambda x: -exponential_log_likelihood(ys, x),\n",
    "    bounds=(0, 40),\n",
    "    method='bounded',\n",
    ")"
   ]
  },
  {
   "cell_type": "code",
   "execution_count": null,
   "metadata": {},
   "outputs": [],
   "source": [
    "print(mle)"
   ]
  },
  {
   "cell_type": "code",
   "execution_count": null,
   "metadata": {},
   "outputs": [],
   "source": [
    "plt.plot(beta_space[40:140], log_likelihoods[40:140])\n",
    "plt.plot(mle[\"x\"], -mle[\"fun\"], marker='o', color='r', lw=0, label='MLE')\n",
    "plt.xlabel(\"beta\")\n",
    "plt.ylabel(\"log-likelihood\")\n",
    "plt.legend()\n",
    "plt.show()"
   ]
  }
 ],
 "metadata": {
  "interpreter": {
   "hash": "31f2aee4e71d21fbe5cf8b01ff0e069b9275f58929596ceb00d14d90e3e16cd6"
  },
  "kernelspec": {
   "display_name": "Python [conda env:Python3] *",
   "language": "python",
   "name": "python3"
  },
  "language_info": {
   "codemirror_mode": {
    "name": "ipython",
    "version": 3
   },
   "file_extension": ".py",
   "mimetype": "text/x-python",
   "name": "python",
   "nbconvert_exporter": "python",
   "pygments_lexer": "ipython3"
  }
 },
 "nbformat": 4,
 "nbformat_minor": 4
}
