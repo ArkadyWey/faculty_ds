{
 "cells": [
  {
   "cell_type": "markdown",
   "metadata": {},
   "source": [
    "# Inference with samples\n",
    "\n",
    "In this notebook we demonstrate some of the basic ideas of how to do inference with samples from a probability distribution. We don't concern ourselves here with how to draw samples in general, only with what to do with the samples once we have them.\n",
    "\n",
    "The starting point is the standard Monte Carlo estimator. We can approximate integrals over some probability density $p(\\theta)$ given samples $\\theta^{(1)}, \\dots, \\theta^{(N)}$ as follows.\n",
    "\n",
    "$$\n",
    "    \\mathbb{E}(f(\\theta)) = \\int f(\\theta) p(\\theta) d\\theta \\approx \\frac{1}{N}\\sum_{n=1}^N f(\\theta^{(n)})\n",
    "$$\n",
    "\n",
    "Most quantities of interest can be characterised in this way. For example, mean can be computed by setting $f(\\theta) = \\theta$, in which case we see that the Monte Carlo estimator for the mean is simply the sample mean.\n",
    "\n",
    "$$\n",
    "    \\mathbb{E}(\\theta) = \\int \\theta p(\\theta) d\\theta \\approx \\frac{1}{N} \\sum_{n=1}^N \\theta^{(n)}\n",
    "$$\n",
    "\n",
    "Probabilities can be characterised by integrating an appropriately chosen indicator function against the density. For example for the probability that $\\theta \\geq 0$ we would do\n",
    "\n",
    "$$\n",
    "    \\mathrm{Pr}(\\theta \\geq 0) = \\int I_{\\theta \\geq 0}(\\theta) p(\\theta) d\\theta \\approx \\frac{\\#\\{\\theta^{(i)} \\geq 0\\}}{N}\n",
    "$$\n",
    "\n",
    "We can also characterise quantiles such as the median as integrals, in which case the Monte Carlo estimator is simply the corresponding sample quantile.\n",
    "\n",
    "Let's see some examples."
   ]
  },
  {
   "cell_type": "code",
   "execution_count": null,
   "metadata": {},
   "outputs": [],
   "source": [
    "import matplotlib.pyplot as plt\n",
    "import numpy as np\n",
    "\n",
    "%matplotlib inline"
   ]
  },
  {
   "cell_type": "markdown",
   "metadata": {},
   "source": [
    "To start we'll keep things simple, and suppose we were doing inference on a random variable $X \\sim \\mathcal{N}(10, 1)$. We first generate some samples."
   ]
  },
  {
   "cell_type": "code",
   "execution_count": null,
   "metadata": {},
   "outputs": [],
   "source": [
    "x = np.random.normal(loc=10, scale=1, size=500)"
   ]
  },
  {
   "cell_type": "markdown",
   "metadata": {},
   "source": [
    "The estimator for the mean is simply the sample mean. If the estimator is good, it should be close to 10."
   ]
  },
  {
   "cell_type": "code",
   "execution_count": null,
   "metadata": {},
   "outputs": [],
   "source": [
    "x.mean()"
   ]
  },
  {
   "cell_type": "markdown",
   "metadata": {},
   "source": [
    "What about the probability that $X \\geq 10$? The true answer is 0.5 because of symmetry. Our estimate from the sample is"
   ]
  },
  {
   "cell_type": "code",
   "execution_count": null,
   "metadata": {},
   "outputs": [],
   "source": [
    "(x >= 10).sum() / x.size"
   ]
  },
  {
   "cell_type": "markdown",
   "metadata": {},
   "source": [
    "Similarly the probability that $X \\geq 11$? The true answer is about 0.159. Our estimate"
   ]
  },
  {
   "cell_type": "code",
   "execution_count": null,
   "metadata": {},
   "outputs": [],
   "source": [
    "(x >= 11).sum() / x.size"
   ]
  },
  {
   "cell_type": "markdown",
   "metadata": {},
   "source": [
    "All of these will converge to the true answer as we add samples."
   ]
  },
  {
   "cell_type": "code",
   "execution_count": null,
   "metadata": {},
   "outputs": [],
   "source": [
    "x = np.random.normal(loc=10, scale=1, size=1000000)\n",
    "(x >= 11).sum() / x.size"
   ]
  },
  {
   "cell_type": "markdown",
   "metadata": {},
   "source": [
    "The same kinds of estimates hold if we sample from multivariate distributions. Let's suppose $X_i \\sim \\mathcal{N}(\\mu_i, 1)$ are independent with $\\mu_1 = 0$ and $\\mu_2 = 1$. What's the probability that $X_1 \\geq X_2$? Given samples we would estimate as follows"
   ]
  },
  {
   "cell_type": "code",
   "execution_count": null,
   "metadata": {},
   "outputs": [],
   "source": [
    "x = np.random.multivariate_normal(np.array([0, 1]), np.identity(2), size=500)\n",
    "\n",
    "(x[:, 0] >= x[:, 1]).sum() / x.shape[0]"
   ]
  },
  {
   "cell_type": "markdown",
   "metadata": {},
   "source": [
    "In this case, the answer can be computed analytically also, because $X_1 - X_2 \\sim \\mathcal{N}(-1, 2)$, and so $\\mathrm{Pr}(X_1 \\geq X_2) = \\mathrm{Pr}(X_1 - X_2 \\geq 0) \\approx 0.240$.\n",
    "\n",
    "The same approach generalises to arbitrarily complicated distributions, where it may not be possible to write down the distribution of combinations of variables like this."
   ]
  },
  {
   "cell_type": "markdown",
   "metadata": {},
   "source": [
    "## Exercises\n",
    "\n",
    "For each of the following exercises, draw 1000 samples from the appropriate distribution to produce estimates.\n",
    "\n",
    "Note that we parametrise the normal distribution in terms of its variance $\\mathcal{N}(\\mu, \\sigma^2)$, though NumPy uses standard deviation $\\mathcal{N}(\\mu, \\sigma)$.\n",
    "\n",
    "   1. Suppose that $X \\sim \\mathcal{N}(12, 4^2)$. Estimate $\\mathrm{Pr}(X \\geq 8)$."
   ]
  },
  {
   "cell_type": "code",
   "execution_count": null,
   "metadata": {},
   "outputs": [],
   "source": [
    "# your code here"
   ]
  },
  {
   "cell_type": "markdown",
   "metadata": {},
   "source": [
    "2. Suppose that $X \\sim \\mathrm{Beta}(4, 17)$. Estimate the median. Estimate the 2.5th, 25th, 75th and 97.5th percentiles."
   ]
  },
  {
   "cell_type": "code",
   "execution_count": null,
   "metadata": {},
   "outputs": [],
   "source": [
    "# your code here"
   ]
  },
  {
   "cell_type": "markdown",
   "metadata": {},
   "source": [
    "   3. Suppose that $X_1 \\sim \\mathcal N (2, 3^2)$, $X_2 \\sim \\mathcal N (1, 4^2)$ are **not** independent and that $\\mathcal{cov}(X_1, X_2) = -8$. \n",
    "       \n",
    "       a. Plot a scatter plot of samples of $X_1$ and $X_2$."
   ]
  },
  {
   "cell_type": "code",
   "execution_count": null,
   "metadata": {},
   "outputs": [],
   "source": [
    "# your code here"
   ]
  },
  {
   "cell_type": "markdown",
   "metadata": {},
   "source": [
    "  b. Estimate the probability that $3X_1 \\leq 2X_2$."
   ]
  },
  {
   "cell_type": "code",
   "execution_count": null,
   "metadata": {},
   "outputs": [],
   "source": [
    "# your code here"
   ]
  },
  {
   "cell_type": "markdown",
   "metadata": {},
   "source": [
    "   4. *Challenge*. Suppose that $A \\sim \\mathrm{Poisson}(45)$, $B \\sim \\mathrm{Poisson}(30)$, and $X | A, B \\sim \\mathrm{Beta}(A, B)$. Estimate $\\mathbb{E}\\left(\\tan\\left(\\frac{\\pi X}{2}\\right)\\right)$ and $\\mathrm{var}\\left(\\tan\\left(\\frac{\\pi X}{2}\\right)\\right)$"
   ]
  },
  {
   "cell_type": "code",
   "execution_count": null,
   "metadata": {},
   "outputs": [],
   "source": [
    "# your code here"
   ]
  }
 ],
 "metadata": {
  "kernelspec": {
   "display_name": "Python 3",
   "language": "python",
   "name": "python3"
  },
  "language_info": {
   "codemirror_mode": {
    "name": "ipython",
    "version": 3
   },
   "file_extension": ".py",
   "mimetype": "text/x-python",
   "name": "python",
   "nbconvert_exporter": "python",
   "pygments_lexer": "ipython3",
   "version": "3.7.6"
  }
 },
 "nbformat": 4,
 "nbformat_minor": 2
}
