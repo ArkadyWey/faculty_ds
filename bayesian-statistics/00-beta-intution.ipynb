{
 "cells": [
  {
   "cell_type": "markdown",
   "metadata": {},
   "source": [
    "# Beta distribution intuition\n",
    "\n",
    "This ipywidget lets you play around with the beta distribution to get intuition for it's dependence on its parameters.\n",
    "\n",
    "If it's not working, you might need to run\n",
    "\n",
    "```\n",
    "pip install ipywidgets\n",
    "jupyter nbextension enable --py widgetsnbextension\n",
    "```"
   ]
  },
  {
   "cell_type": "code",
   "execution_count": null,
   "metadata": {},
   "outputs": [],
   "source": [
    "import ipywidgets as widgets\n",
    "import matplotlib.pyplot as plt\n",
    "import numpy as np\n",
    "from IPython.display import clear_output, display\n",
    "from scipy.stats import beta"
   ]
  },
  {
   "cell_type": "markdown",
   "metadata": {},
   "source": [
    "This graph plots the density of $\\mathrm{Beta}(\\alpha, \\beta)$ where $\\alpha$ and $\\beta$ are controlled by input fields."
   ]
  },
  {
   "cell_type": "code",
   "execution_count": null,
   "metadata": {},
   "outputs": [],
   "source": [
    "# turn off interactive mode so plots aren't auto-displayed\n",
    "plt.ioff()\n",
    "out = widgets.Output()\n",
    "\n",
    "f, ax = plt.subplots(figsize=(10, 8))\n",
    "\n",
    "x = np.linspace(0, 1, 1001)\n",
    "y = beta.pdf(x, 5, 5)\n",
    "(line,) = ax.plot(x, y)\n",
    "# invisible point to make sure y axis always starts at zero\n",
    "ax.plot(0, 0, alpha=0)\n",
    "ax.set_xlabel(\"x\", fontsize=16)\n",
    "ax.set_ylabel(\"Density\", fontsize=16)\n",
    "\n",
    "\n",
    "def update_plot(a, b):\n",
    "    line.set_ydata(beta.pdf(x, a, b))\n",
    "    # recompute the ax.dataLim\n",
    "    ax.relim()\n",
    "    # update ax.viewLim using the new dataLim\n",
    "    ax.autoscale_view()\n",
    "    with out:\n",
    "        clear_output(wait=True)\n",
    "        display(f)\n",
    "\n",
    "\n",
    "def make_input(desc):\n",
    "    return widgets.BoundedIntText(\n",
    "        value=5, min=0, max=1000, step=1, description=desc,\n",
    "    )\n",
    "\n",
    "\n",
    "widgets.interact(update_plot, a=make_input(\"Alpha\"), b=make_input(\"Beta\"))\n",
    "out"
   ]
  }
 ],
 "metadata": {
  "kernelspec": {
   "display_name": "Python 3",
   "language": "python",
   "name": "python3"
  },
  "language_info": {
   "codemirror_mode": {
    "name": "ipython",
    "version": 3
   },
   "file_extension": ".py",
   "mimetype": "text/x-python",
   "name": "python",
   "nbconvert_exporter": "python",
   "pygments_lexer": "ipython3",
   "version": "3.7.6"
  }
 },
 "nbformat": 4,
 "nbformat_minor": 4
}
