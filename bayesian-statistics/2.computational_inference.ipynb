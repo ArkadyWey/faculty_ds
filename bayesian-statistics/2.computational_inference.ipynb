{
 "cells": [
  {
   "cell_type": "markdown",
   "metadata": {},
   "source": [
    "# Computational Inference via NumPyro"
   ]
  },
  {
   "cell_type": "markdown",
   "metadata": {},
   "source": [
    "We want try out what we learned about computational inference and conduct the inferences we did in the previous notebook now with the use of sampling methods. We will be using the NumPyro library, to which we will do a short introduction before digging into the inference part. "
   ]
  },
  {
   "cell_type": "markdown",
   "metadata": {},
   "source": [
    "## 1. Model specification in NumPyro\n",
    "\n",
    "As before we want to estimate the probability of a coin landing heads based on a number of observed flips. Assuming a Beta-distributed prior with parameters $\\alpha=\\beta=10$, the model has the form \n",
    "\n",
    "$$\n",
    "    \\theta \\sim \\mathrm{Beta}(10, 10) \\\\\n",
    "    y_i \\sim \\mathrm{Bernoulli}(\\theta) \\quad i = 1, \\dots, N\n",
    "$$"
   ]
  },
  {
   "cell_type": "markdown",
   "metadata": {},
   "source": [
    "### Numpy"
   ]
  },
  {
   "cell_type": "markdown",
   "metadata": {},
   "source": [
    "Let's start by building a probabilistic model as a Python function just using NumPy."
   ]
  },
  {
   "cell_type": "code",
   "execution_count": 1,
   "metadata": {},
   "outputs": [],
   "source": [
    "import numpy as np\n",
    "\n",
    "rng = np.random.default_rng(seed=42)"
   ]
  },
  {
   "cell_type": "code",
   "execution_count": 2,
   "metadata": {},
   "outputs": [
    {
     "data": {
      "text/plain": [
       "0.4661241386616667"
      ]
     },
     "execution_count": 2,
     "metadata": {},
     "output_type": "execute_result"
    }
   ],
   "source": [
    "rng.beta(10, 10)"
   ]
  },
  {
   "cell_type": "code",
   "execution_count": 3,
   "metadata": {},
   "outputs": [],
   "source": [
    "def model(n=1):\n",
    "    theta = rng.beta(10, 10)  # prior\n",
    "    y = rng.binomial(1, theta, size=n)  # likelihood\n",
    "    return theta, y"
   ]
  },
  {
   "cell_type": "code",
   "execution_count": 4,
   "metadata": {
    "scrolled": true
   },
   "outputs": [
    {
     "data": {
      "text/plain": [
       "(0.32194090877996817,\n",
       " array([0, 0, 0, 1, 0, 1, 0, 0, 0, 0, 1, 0, 1, 0, 1, 1, 1, 0, 0, 0]))"
      ]
     },
     "execution_count": 4,
     "metadata": {},
     "output_type": "execute_result"
    }
   ],
   "source": [
    "model(20)"
   ]
  },
  {
   "cell_type": "markdown",
   "metadata": {},
   "source": [
    "Hopefully there is nothing here that is too complicated / confusing. We simply sample theta, then n samples of y given that theta and return them."
   ]
  },
  {
   "cell_type": "markdown",
   "metadata": {},
   "source": [
    "### Numpyro\n",
    "\n",
    "The corresponding model in NumPyro will look very similar, but instead of using distributions from numpy.random we use numpyro.sample statements and pass the corresponding distribution. The reason for this will become clear in a moment"
   ]
  },
  {
   "cell_type": "code",
   "execution_count": 5,
   "metadata": {},
   "outputs": [],
   "source": [
    "import numpyro\n",
    "import numpyro.distributions as dist\n",
    "\n",
    "# tell numpyro to use multiple cores\n",
    "numpyro.set_host_device_count(4)"
   ]
  },
  {
   "cell_type": "code",
   "execution_count": 6,
   "metadata": {},
   "outputs": [],
   "source": [
    "def model(n=1):\n",
    "    theta = numpyro.sample(\"theta\", dist.Beta(10, 10))  # prior\n",
    "    y = numpyro.sample(\"y\", dist.Bernoulli(theta).expand((n,)))  # likelihood\n",
    "    return theta, y"
   ]
  },
  {
   "cell_type": "markdown",
   "metadata": {},
   "source": [
    "One final change is that NumPyro, like JAX, does not maintain global random state, so we need to manually seed the model. You can read more about the reasons for this here."
   ]
  },
  {
   "cell_type": "code",
   "execution_count": 7,
   "metadata": {},
   "outputs": [
    {
     "data": {
      "text/plain": [
       "(DeviceArray(0.60867184, dtype=float32),\n",
       " DeviceArray([1, 0, 1, 0, 1, 1, 1, 1, 1, 0, 1, 0, 0, 0, 1, 1, 0, 0, 0, 1], dtype=int32))"
      ]
     },
     "execution_count": 7,
     "metadata": {},
     "output_type": "execute_result"
    }
   ],
   "source": [
    "from jax import random\n",
    "\n",
    "rng_key = random.PRNGKey(42)\n",
    "\n",
    "with numpyro.handlers.seed(rng_seed=rng_key):\n",
    "    theta, y = model(n=20)\n",
    "\n",
    "theta, y"
   ]
  },
  {
   "cell_type": "code",
   "execution_count": 8,
   "metadata": {},
   "outputs": [
    {
     "data": {
      "text/plain": [
       "DeviceArray([ 0, 42], dtype=uint32)"
      ]
     },
     "execution_count": 8,
     "metadata": {},
     "output_type": "execute_result"
    }
   ],
   "source": [
    "rng_key"
   ]
  },
  {
   "cell_type": "markdown",
   "metadata": {},
   "source": [
    "### Improving the model\n",
    "\n",
    "We can make a few improvements to the model.\n",
    "\n",
    "- We will allow the user to pass in y values for the model to condition on. This ability to condition on observed data is usually crucial in order to make inferences about the latent variables (theta in this case).\n",
    "- We will replace .expand with a numpyro.plate context manager. This NumPyro primitive is another way of specifying batch dimensions inspired by plate notation and makes for more readble code + additional useful output in the model trace.\n",
    "- Finally we won't bother with return values, because as we can see above all of the values are captured in the model trace. Generally we only use return values in NumPyro models for debugging purposes."
   ]
  },
  {
   "cell_type": "code",
   "execution_count": 9,
   "metadata": {},
   "outputs": [],
   "source": [
    "def model(y=None):\n",
    "\n",
    "    n = y.shape[0] if y is not None else 20\n",
    "\n",
    "    # prior\n",
    "    theta = numpyro.sample(\"theta\", dist.Beta(10, 10))\n",
    "\n",
    "    # likelihood\n",
    "    with numpyro.plate(\"n\", n):\n",
    "        numpyro.sample(\"y\", dist.Bernoulli(theta), obs=y)"
   ]
  },
  {
   "cell_type": "markdown",
   "metadata": {},
   "source": [
    "Numpyro lets us create neat visualizations of our probabilistic  model."
   ]
  },
  {
   "cell_type": "code",
   "execution_count": 10,
   "metadata": {
    "scrolled": false
   },
   "outputs": [
    {
     "data": {
      "image/svg+xml": [
       "<?xml version=\"1.0\" encoding=\"UTF-8\" standalone=\"no\"?>\n",
       "<!DOCTYPE svg PUBLIC \"-//W3C//DTD SVG 1.1//EN\"\n",
       " \"http://www.w3.org/Graphics/SVG/1.1/DTD/svg11.dtd\">\n",
       "<!-- Generated by graphviz version 2.40.1 (20161225.0304)\n",
       " -->\n",
       "<!-- Title: %3 Pages: 1 -->\n",
       "<svg width=\"94pt\" height=\"155pt\"\n",
       " viewBox=\"0.00 0.00 94.00 155.00\" xmlns=\"http://www.w3.org/2000/svg\" xmlns:xlink=\"http://www.w3.org/1999/xlink\">\n",
       "<g id=\"graph0\" class=\"graph\" transform=\"scale(1 1) rotate(0) translate(4 151)\">\n",
       "<title>%3</title>\n",
       "<polygon fill=\"#ffffff\" stroke=\"transparent\" points=\"-4,4 -4,-151 90,-151 90,4 -4,4\"/>\n",
       "<g id=\"clust1\" class=\"cluster\">\n",
       "<title>cluster_n</title>\n",
       "<polygon fill=\"none\" stroke=\"#000000\" points=\"8,-8 8,-83 78,-83 78,-8 8,-8\"/>\n",
       "<text text-anchor=\"middle\" x=\"65\" y=\"-15.8\" font-family=\"Times,serif\" font-size=\"14.00\" fill=\"#000000\">n</text>\n",
       "</g>\n",
       "<!-- theta -->\n",
       "<g id=\"node1\" class=\"node\">\n",
       "<title>theta</title>\n",
       "<ellipse fill=\"#ffffff\" stroke=\"#000000\" cx=\"43\" cy=\"-129\" rx=\"35.194\" ry=\"18\"/>\n",
       "<text text-anchor=\"middle\" x=\"43\" y=\"-125.3\" font-family=\"Times,serif\" font-size=\"14.00\" fill=\"#000000\">theta</text>\n",
       "</g>\n",
       "<!-- y -->\n",
       "<g id=\"node2\" class=\"node\">\n",
       "<title>y</title>\n",
       "<ellipse fill=\"#ffffff\" stroke=\"#000000\" cx=\"43\" cy=\"-57\" rx=\"27\" ry=\"18\"/>\n",
       "<text text-anchor=\"middle\" x=\"43\" y=\"-53.3\" font-family=\"Times,serif\" font-size=\"14.00\" fill=\"#000000\">y</text>\n",
       "</g>\n",
       "<!-- theta&#45;&gt;y -->\n",
       "<g id=\"edge1\" class=\"edge\">\n",
       "<title>theta&#45;&gt;y</title>\n",
       "<path fill=\"none\" stroke=\"#000000\" d=\"M43,-110.8314C43,-103.131 43,-93.9743 43,-85.4166\"/>\n",
       "<polygon fill=\"#000000\" stroke=\"#000000\" points=\"46.5001,-85.4132 43,-75.4133 39.5001,-85.4133 46.5001,-85.4132\"/>\n",
       "</g>\n",
       "</g>\n",
       "</svg>\n"
      ],
      "text/plain": [
       "<graphviz.dot.Digraph at 0x7fce007cdaf0>"
      ]
     },
     "execution_count": 10,
     "metadata": {},
     "output_type": "execute_result"
    }
   ],
   "source": [
    "numpyro.render_model(model)"
   ]
  },
  {
   "cell_type": "markdown",
   "metadata": {},
   "source": [
    "### Sampling from the prior\n",
    "NumPyro provides a convenient interface for drawing multiple samples from a model."
   ]
  },
  {
   "cell_type": "code",
   "execution_count": 11,
   "metadata": {},
   "outputs": [],
   "source": [
    "from numpyro.infer import Predictive"
   ]
  },
  {
   "cell_type": "code",
   "execution_count": 12,
   "metadata": {},
   "outputs": [],
   "source": [
    "N_SAMPLES = 4_000"
   ]
  },
  {
   "cell_type": "code",
   "execution_count": 13,
   "metadata": {},
   "outputs": [
    {
     "data": {
      "text/plain": [
       "((4000,), (4000, 20))"
      ]
     },
     "execution_count": 13,
     "metadata": {},
     "output_type": "execute_result"
    }
   ],
   "source": [
    "prior = Predictive(model, num_samples=N_SAMPLES)\n",
    "\n",
    "rng_key, subkey = random.split(rng_key)\n",
    "prior_samples = prior(subkey)\n",
    "\n",
    "prior_samples[\"theta\"].shape, prior_samples[\"y\"].shape"
   ]
  },
  {
   "cell_type": "code",
   "execution_count": 14,
   "metadata": {
    "scrolled": true
   },
   "outputs": [
    {
     "data": {
      "text/plain": [
       "{'theta': DeviceArray([0.3973194 , 0.5893742 , 0.38195637, ..., 0.39703476,\n",
       "              0.4182834 , 0.6078557 ], dtype=float32),\n",
       " 'y': DeviceArray([[0, 0, 0, ..., 1, 1, 1],\n",
       "              [1, 0, 1, ..., 0, 0, 1],\n",
       "              [1, 1, 0, ..., 0, 0, 0],\n",
       "              ...,\n",
       "              [0, 0, 1, ..., 1, 1, 0],\n",
       "              [1, 1, 1, ..., 0, 0, 0],\n",
       "              [1, 1, 1, ..., 1, 1, 1]], dtype=int32)}"
      ]
     },
     "execution_count": 14,
     "metadata": {},
     "output_type": "execute_result"
    }
   ],
   "source": [
    "prior_samples"
   ]
  },
  {
   "cell_type": "markdown",
   "metadata": {},
   "source": [
    "## 2. Bayesian inference via NumPyro\n",
    "\n",
    "Once we've built the model inference is pretty straight-forward. Let's fit the model to the data of our lazy 3-coin toss trial. "
   ]
  },
  {
   "cell_type": "code",
   "execution_count": 15,
   "metadata": {},
   "outputs": [],
   "source": [
    "y = np.array([1, 1, 1])"
   ]
  },
  {
   "cell_type": "code",
   "execution_count": 16,
   "metadata": {},
   "outputs": [],
   "source": [
    "from numpyro.infer import MCMC, NUTS"
   ]
  },
  {
   "cell_type": "code",
   "execution_count": 17,
   "metadata": {},
   "outputs": [
    {
     "data": {
      "application/vnd.jupyter.widget-view+json": {
       "model_id": "a5b4bb36a3fb4e60a00cb9c97da1e35f",
       "version_major": 2,
       "version_minor": 0
      },
      "text/plain": [
       "  0%|          | 0/1500 [00:00<?, ?it/s]"
      ]
     },
     "metadata": {},
     "output_type": "display_data"
    },
    {
     "data": {
      "application/vnd.jupyter.widget-view+json": {
       "model_id": "dfea68cddca244e0a3df3b63699f5564",
       "version_major": 2,
       "version_minor": 0
      },
      "text/plain": [
       "  0%|          | 0/1500 [00:00<?, ?it/s]"
      ]
     },
     "metadata": {},
     "output_type": "display_data"
    },
    {
     "data": {
      "application/vnd.jupyter.widget-view+json": {
       "model_id": "47daa9a507644b12a3454c09c385eaa1",
       "version_major": 2,
       "version_minor": 0
      },
      "text/plain": [
       "  0%|          | 0/1500 [00:00<?, ?it/s]"
      ]
     },
     "metadata": {},
     "output_type": "display_data"
    },
    {
     "data": {
      "application/vnd.jupyter.widget-view+json": {
       "model_id": "edf728bd84834801b77c4389381e3e38",
       "version_major": 2,
       "version_minor": 0
      },
      "text/plain": [
       "  0%|          | 0/1500 [00:00<?, ?it/s]"
      ]
     },
     "metadata": {},
     "output_type": "display_data"
    },
    {
     "name": "stdout",
     "output_type": "stream",
     "text": [
      "\n",
      "                mean       std    median      5.0%     95.0%     n_eff     r_hat\n",
      "     theta      0.56      0.10      0.56      0.40      0.73   1326.59      1.00\n",
      "\n",
      "Number of divergences: 0\n"
     ]
    }
   ],
   "source": [
    "mcmc = MCMC(NUTS(model), num_warmup=500, num_samples=int(N_SAMPLES / 4), num_chains=4)\n",
    "\n",
    "rng_key, subkey = random.split(rng_key)\n",
    "mcmc.run(subkey, y=y)\n",
    "\n",
    "mcmc.print_summary()"
   ]
  },
  {
   "cell_type": "code",
   "execution_count": 18,
   "metadata": {},
   "outputs": [],
   "source": [
    "posterior_samples = mcmc.get_samples()"
   ]
  },
  {
   "cell_type": "code",
   "execution_count": 19,
   "metadata": {
    "scrolled": true
   },
   "outputs": [
    {
     "data": {
      "text/plain": [
       "(4000,)"
      ]
     },
     "execution_count": 19,
     "metadata": {},
     "output_type": "execute_result"
    }
   ],
   "source": [
    "posterior_samples[\"theta\"].shape"
   ]
  },
  {
   "cell_type": "code",
   "execution_count": 20,
   "metadata": {
    "scrolled": true
   },
   "outputs": [
    {
     "data": {
      "text/plain": [
       "DeviceArray([0.3973194 , 0.5893742 , 0.38195637, ..., 0.39703476,\n",
       "             0.4182834 , 0.6078557 ], dtype=float32)"
      ]
     },
     "execution_count": 20,
     "metadata": {},
     "output_type": "execute_result"
    }
   ],
   "source": [
    "prior_samples[\"theta\"]"
   ]
  },
  {
   "cell_type": "code",
   "execution_count": 28,
   "metadata": {},
   "outputs": [
    {
     "data": {
      "text/plain": [
       "DeviceArray([0.55055547, 0.55055547, 0.6636222 , ..., 0.54527426,\n",
       "             0.5187524 , 0.5187524 ], dtype=float32)"
      ]
     },
     "execution_count": 28,
     "metadata": {},
     "output_type": "execute_result"
    }
   ],
   "source": [
    "posterior_samples[\"theta\"]"
   ]
  },
  {
   "cell_type": "code",
   "execution_count": 29,
   "metadata": {},
   "outputs": [
    {
     "data": {
      "image/png": "[encoded data removed]",
      "text/plain": [
       "<Figure size 576x360 with 1 Axes>"
      ]
     },
     "metadata": {
      "needs_background": "light"
     },
     "output_type": "display_data"
    }
   ],
   "source": [
    "import matplotlib.pyplot as plt\n",
    "\n",
    "f, ax = plt.subplots(figsize=(8, 5))\n",
    "ax.hist(np.array(posterior_samples[\"theta\"]), alpha=0.5, bins=20, label=\"posterior\")\n",
    "ax.hist(np.array(prior_samples[\"theta\"]), alpha=0.5, bins=20, label=\"prior\")\n",
    "plt.legend(loc=\"best\")\n",
    "plt.show()"
   ]
  },
  {
   "cell_type": "markdown",
   "metadata": {},
   "source": [
    "### Posterior Statistics\n",
    "\n",
    "#### A. Expecation value\n",
    "\n",
    "**Exercise:** Compute the Monte Carlo estimate of the expectation of $\\theta$ under the posterior. For posterior samples $\\theta_i$, $i=1, ..., N$, this estimate is defined by\n",
    "\n",
    "$$\\mathbb{E}\\left[\\theta \\vert y\\right] \\approx \\frac{1}{N}\\sum_{i=1}^N \\theta_i.$$"
   ]
  },
  {
   "cell_type": "code",
   "execution_count": 23,
   "metadata": {},
   "outputs": [
    {
     "name": "stdout",
     "output_type": "stream",
     "text": [
      "0.5619689\n"
     ]
    }
   ],
   "source": [
    "mean = posterior_samples[\"theta\"].mean()\n",
    "print(mean)"
   ]
  },
  {
   "cell_type": "markdown",
   "metadata": {},
   "source": [
    "#### B. Event Probabilities\n",
    "\n",
    "Compute the Monte Carlo estimate for the probability of $\\theta \\in [\\theta_1, \\theta_2]$ under the posterior. For posterior samples $\\theta_i$, $i=1, ..., N$, this estimate is defined by,\n",
    "\n",
    "$$ \\int_{\\theta_1}^{\\theta_2} p(\\theta \\vert y) \\mathrm{d} \\theta \\approx \\frac{1}{N}\\sum_{i=1}^N \\chi(\\theta_i \\in [\\theta_1, \\theta_2]) $$"
   ]
  },
  {
   "cell_type": "markdown",
   "metadata": {},
   "source": [
    "**Exercice:** What's the estimated probability of $\\theta$ is fair within a tolerance of 0.01? \n"
   ]
  },
  {
   "cell_type": "code",
   "execution_count": 24,
   "metadata": {},
   "outputs": [
    {
     "data": {
      "text/plain": [
       "DeviceArray([ True,  True,  True, ...,  True,  True,  True], dtype=bool)"
      ]
     },
     "execution_count": 24,
     "metadata": {},
     "output_type": "execute_result"
    }
   ],
   "source": [
    "posterior_samples[\"theta\"] > 0"
   ]
  },
  {
   "cell_type": "code",
   "execution_count": 25,
   "metadata": {},
   "outputs": [
    {
     "name": "stdout",
     "output_type": "stream",
     "text": [
      "0.0635\n"
     ]
    }
   ],
   "source": [
    "proba_fair = (\n",
    "    (posterior_samples[\"theta\"] >= 0.49) & (posterior_samples[\"theta\"] <= 0.51)\n",
    ").mean()\n",
    "print(proba_fair)"
   ]
  },
  {
   "cell_type": "markdown",
   "metadata": {},
   "source": [
    "#### C. Quantiles"
   ]
  },
  {
   "cell_type": "markdown",
   "metadata": {},
   "source": [
    "For a given probability $P \\in [0,1]$ the associated posterior quantile can be approximated via posterior samples $\\theta_i$, $i=1, ..., N$ by\n",
    "\n",
    "$$ \\arg\\max_x \\left\\{ \\int_0^{x} \\ p(\\theta \\vert y) d\\theta \\le P \\right\\} \\approx \\arg\\max_x \\left\\{ \\frac{1}{N}\\sum_{i=1}^N \\chi(\\theta_i \\in [0, x]) \\le P \\right\\} $$\n",
    "\n",
    "**Exercise:** What's the 5-th and 95-th percentile estimate?"
   ]
  },
  {
   "cell_type": "code",
   "execution_count": 26,
   "metadata": {},
   "outputs": [],
   "source": [
    "perc_5 = np.quantile(posterior_samples[\"theta\"], 0.05)\n",
    "perc_95 = np.quantile(posterior_samples[\"theta\"], 0.95)"
   ]
  },
  {
   "cell_type": "code",
   "execution_count": 27,
   "metadata": {
    "scrolled": true
   },
   "outputs": [
    {
     "name": "stdout",
     "output_type": "stream",
     "text": [
      "0.39281658679246906\n",
      "0.7268827944993973\n"
     ]
    }
   ],
   "source": [
    "print(perc_5)\n",
    "print(perc_95)"
   ]
  }
 ],
 "metadata": {
  "kernelspec": {
   "display_name": "Python [conda env:Python3] *",
   "language": "python",
   "name": "conda-env-Python3-py"
  },
  "language_info": {
   "codemirror_mode": {
    "name": "ipython",
    "version": 3
   },
   "file_extension": ".py",
   "mimetype": "text/x-python",
   "name": "python",
   "nbconvert_exporter": "python",
   "pygments_lexer": "ipython3",
   "version": "3.8.2"
  }
 },
 "nbformat": 4,
 "nbformat_minor": 4
}
