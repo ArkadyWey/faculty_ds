{
 "cells": [
  {
   "cell_type": "markdown",
   "metadata": {},
   "source": [
    "# Beta distribution intuition\n",
    "\n",
    "This ipywidget lets you play around with the beta distribution to get intuition for it's dependence on its parameters.\n",
    "\n",
    "If it's not working, you might need to run\n",
    "\n",
    "```\n",
    "pip install ipywidgets\n",
    "jupyter nbextension enable --py widgetsnbextension\n",
    "```"
   ]
  },
  {
   "cell_type": "code",
   "execution_count": null,
   "metadata": {},
   "outputs": [],
   "source": [
    "import ipywidgets as widgets\n",
    "import matplotlib.pyplot as plt\n",
    "from IPython.display import clear_output, display\n",
    "import numpy as np\n",
    "from scipy.stats import beta as beta_dist"
   ]
  },
  {
   "cell_type": "markdown",
   "metadata": {},
   "source": [
    "This graph plots the density of $\\mathrm{Beta}(\\alpha, \\beta)$ where $\\alpha$ and $\\beta$ are controlled by input fields."
   ]
  },
  {
   "cell_type": "code",
   "execution_count": null,
   "metadata": {},
   "outputs": [],
   "source": [
    "# turn off interactive mode so plots aren't auto-displayed\n",
    "plt.ioff()\n",
    "out = widgets.Output()\n",
    "\n",
    "f, ax = plt.subplots(figsize=(8, 6))\n",
    "\n",
    "x = np.linspace(0, 1, 1001)\n",
    "y = beta_dist.pdf(x, 5, 5)\n",
    "(line,) = ax.plot(x, y)\n",
    "# invisible point to make sure y axis always starts at zero\n",
    "ax.plot(0, 0, alpha=0)\n",
    "ax.set_xlabel(\"x\", fontsize=16)\n",
    "ax.set_ylabel(\"Density\", fontsize=16)\n",
    "\n",
    "\n",
    "def update_plot(alpha, beta):\n",
    "    line.set_ydata(beta_dist.pdf(x, alpha, beta))\n",
    "    # recompute the ax.dataLim\n",
    "    ax.relim()\n",
    "    # update ax.viewLim using the new dataLim\n",
    "    ax.autoscale_view()\n",
    "    with out:\n",
    "        clear_output(wait=True)\n",
    "        display(f)\n",
    "\n",
    "\n",
    "def make_input(desc):\n",
    "    return widgets.BoundedIntText(\n",
    "        value=5,\n",
    "        min=0,\n",
    "        max=1000,\n",
    "        step=1,\n",
    "        description=desc,\n",
    "    )\n",
    "\n",
    "\n",
    "widgets.interact(update_plot, alpha=make_input(\"Alpha\"), beta=make_input(\"Beta\"))\n",
    "out"
   ]
  },
  {
   "cell_type": "markdown",
   "metadata": {},
   "source": [
    "#### Exercise: Play with the parameters  𝛼  and  𝛽  and see how their values change the shape of the pdf."
   ]
  }
 ],
 "metadata": {
  "kernelspec": {
   "display_name": "Python 3 (ipykernel)",
   "language": "python",
   "name": "python3"
  },
  "language_info": {
   "codemirror_mode": {
    "name": "ipython",
    "version": 3
   },
   "file_extension": ".py",
   "mimetype": "text/x-python",
   "name": "python",
   "nbconvert_exporter": "python",
   "pygments_lexer": "ipython3"
  }
 },
 "nbformat": 4,
 "nbformat_minor": 4
}
