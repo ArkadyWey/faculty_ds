{
 "cells": [
  {
   "cell_type": "code",
   "execution_count": null,
   "metadata": {},
   "outputs": [],
   "source": [
    "%config InlineBackend.figure_format = \"retina\"\n",
    "import numpy as np\n",
    "import matplotlib.pyplot as plt\n",
    "\n",
    "from scipy.integrate import quad\n",
    "from scipy.special import comb\n",
    "from scipy.optimize import minimize_scalar\n",
    "from scipy import stats\n",
    "\n",
    "\n",
    "plt.rcParams[\"font.size\"] = 14"
   ]
  },
  {
   "cell_type": "markdown",
   "metadata": {},
   "source": [
    "## Example: The mexican peso"
   ]
  },
  {
   "cell_type": "code",
   "execution_count": null,
   "metadata": {},
   "outputs": [],
   "source": [
    "N_HEADS = 3\n",
    "N_TRIALS = 3"
   ]
  },
  {
   "cell_type": "markdown",
   "metadata": {},
   "source": [
    "The problem at hand is a binomial distribution, for which the density is given by:\n",
    "\n",
    "$$ p(y \\vert N, \\theta) = {N \\choose y} \\theta^y (1 - \\theta)^{(N - y)}$$\n",
    "\n",
    "* y: Number of sucesses,\n",
    "* N: Number of trials\n",
    "* $\\theta$: Success probability in single trial"
   ]
  },
  {
   "cell_type": "code",
   "execution_count": null,
   "metadata": {},
   "outputs": [],
   "source": [
    "def binomial_likelihood(n_success, n_trials, p):\n",
    "    C = comb(n_trials, n_success) # combinatorial coefficient\n",
    "    return C * (p**n_success) * (1 - p)**(n_trials - n_success)"
   ]
  },
  {
   "cell_type": "code",
   "execution_count": null,
   "metadata": {},
   "outputs": [],
   "source": [
    "theta_space = np.linspace(0, 1, num=500) "
   ]
  },
  {
   "cell_type": "code",
   "execution_count": null,
   "metadata": {},
   "outputs": [],
   "source": [
    "likelihood = binomial_likelihood(N_HEADS, N_TRIALS, theta_space)"
   ]
  },
  {
   "cell_type": "code",
   "execution_count": null,
   "metadata": {},
   "outputs": [],
   "source": [
    "plt.plot(theta_space, likelihood)\n",
    "plt.xlabel(\"Theta\")\n",
    "plt.ylabel(\"Likelihood\")\n",
    "plt.show()"
   ]
  },
  {
   "cell_type": "markdown",
   "metadata": {},
   "source": [
    "The maximum is clearly at $\\theta = 1$, but let's just build some muscle memory and use scipy again anyway:"
   ]
  },
  {
   "cell_type": "code",
   "execution_count": null,
   "metadata": {},
   "outputs": [],
   "source": [
    "# to find the MLE, we *minimize* the negative likelihood\n",
    "minimize_scalar(\n",
    "    lambda x: -binomial_likelihood(N_HEADS, N_TRIALS, x),\n",
    "    bounds=(0, 1),\n",
    "    method=\"bounded\"\n",
    ")"
   ]
  },
  {
   "cell_type": "markdown",
   "metadata": {},
   "source": [
    "According to the likelihood, the coin is not fair since we would conclude that $\\theta$ is equal to one, so the coin _always_ lands heads."
   ]
  },
  {
   "cell_type": "markdown",
   "metadata": {},
   "source": [
    "Let's now make use of our prior knowledge and Bayes theorem. First, we will need a probability distribution over $\\theta$ that somehow captures what we know from experience about theta."
   ]
  },
  {
   "cell_type": "markdown",
   "metadata": {},
   "source": [
    "### Choosing a prior"
   ]
  },
  {
   "cell_type": "markdown",
   "metadata": {},
   "source": [
    "* $\\theta$ is countinuous and bounded between $[0, 1]$. The only distribution we know that satisfy this is the _beta_ distribution.\n",
    "* Since we know that most coins are fairly symmetric (hence fair), we are going to choose a beta distribution with mean at 0.5\n",
    "* But how concentrated around 0.5 do we want it to be? This is where our priors will probably differ. I have seen and played with many mexican coins, so I have a pretty good knowledge of how fair they are. On the other hand, chances are that you haven't played with many mexican pesos so perhaps you want to remain open to wild possibilities."
   ]
  },
  {
   "cell_type": "markdown",
   "metadata": {},
   "source": [
    "Go to: https://distribution-explorer.github.io/continuous/beta.html, and play around with the parameters of $\\alpha$ and $\\beta$ until you find a distribution that captures what you think it's true about $\\theta$. Hint: For it to have mean 0.5, you will need both parameters to be equal."
   ]
  },
  {
   "cell_type": "markdown",
   "metadata": {},
   "source": [
    "In my case something like a beta distribution with parameters (20, 20) seems reasonable, because I don't really doubt that the bias of the coin can be above 70% (nor below 30%). Let's check what this beta distribution actually says"
   ]
  },
  {
   "cell_type": "code",
   "execution_count": null,
   "metadata": {},
   "outputs": [],
   "source": [
    "# Can't be asked to write my own function, so I will just use the one that comes with scipy\n",
    "prior = stats.beta(20, 20)"
   ]
  },
  {
   "cell_type": "code",
   "execution_count": null,
   "metadata": {},
   "outputs": [],
   "source": [
    "plt.plot(theta_space, prior.pdf(theta_space))"
   ]
  },
  {
   "cell_type": "code",
   "execution_count": null,
   "metadata": {},
   "outputs": [],
   "source": [
    "# The percentile point function is a readily available method that allows me to find quantiles quickly, without having to do integrals myself.\n",
    "# I want to know where 99% of the probability concentrates, so I look for the (0.005, 0.995) interval\n",
    "low, high = prior.ppf([0.005, 0.995])\n",
    "print(low, high)"
   ]
  },
  {
   "cell_type": "markdown",
   "metadata": {},
   "source": [
    "So, with my prior, I'm saying there's a 1% chance that the bias is outise the inteval [0.30, 0.70]. I'm happy with this assumption. If you're not, change it! Tweak the prior to whatever is reasonable to you. A great advantage of a Bayesian approach is that you have to quantify your knowledge explicitly. Every assumption you make can be directly discussed and challenged by others -- This is not a bug, it's a feature!"
   ]
  },
  {
   "cell_type": "code",
   "execution_count": null,
   "metadata": {},
   "outputs": [],
   "source": [
    "# The shaded region only has 1% of probabilty\n",
    "plt.plot(theta_space, prior.pdf(theta_space))\n",
    "plt.axvspan(0, low, color='gray', alpha=0.3)\n",
    "plt.axvspan(high, 1, color='gray', alpha=0.3)\n",
    "plt.xlabel(\"Theta\")\n",
    "plt.title(\"Prior distribution\")\n",
    "plt.show()"
   ]
  },
  {
   "cell_type": "markdown",
   "metadata": {},
   "source": [
    "Accoding to Bayes theorem we have that the posterior is\n",
    "\n",
    "$$ P(\\theta \\vert y) = \\frac{P(y\\vert \\theta) P(\\theta)}{P(y)} $$\n"
   ]
  },
  {
   "cell_type": "markdown",
   "metadata": {},
   "source": [
    "* We have the *likelihood* $P(Data \\vert Parameters)$, this is the `binomial_likelihood` with `n_trials = 3` and `n_heads=3`.\n",
    "* We have the **prior**, $P(Parameters)$, in my case I choose a Beta(20, 20) distribution.\n",
    "* What is $P(y)$? (Also known as the evidence)\n",
    "\n",
    "We don't have it directly but we can compute it making use of the rules of probability:\n",
    "\n",
    "$$P(y) =  \\int P(y, \\theta) d\\theta = \\int P(y\\vert \\theta) P(\\theta) d \\theta$$"
   ]
  },
  {
   "cell_type": "code",
   "execution_count": null,
   "metadata": {},
   "outputs": [],
   "source": [
    "# Let's calculate the integral"
   ]
  },
  {
   "cell_type": "code",
   "execution_count": null,
   "metadata": {},
   "outputs": [],
   "source": [
    "def integrand(theta):\n",
    "    likelihood = binomial_likelihood(N_HEADS, N_TRIALS, theta)\n",
    "    prior = stats.beta(20, 20).pdf(theta)\n",
    "    return likelihood * prior"
   ]
  },
  {
   "cell_type": "code",
   "execution_count": null,
   "metadata": {},
   "outputs": [],
   "source": [
    "# theta can take values between 0 and 1, so those should be our integration limits\n",
    "evidence, numerical_error = quad(integrand, 0, 1)"
   ]
  },
  {
   "cell_type": "code",
   "execution_count": null,
   "metadata": {},
   "outputs": [],
   "source": [
    "print(evidence)"
   ]
  },
  {
   "cell_type": "code",
   "execution_count": null,
   "metadata": {},
   "outputs": [],
   "source": [
    "# The numerical error in the result is small (compared to the result), so we proceed happily :)\n",
    "print(numerical_error)"
   ]
  },
  {
   "cell_type": "markdown",
   "metadata": {},
   "source": [
    "# Finally let's define the posterior"
   ]
  },
  {
   "cell_type": "code",
   "execution_count": null,
   "metadata": {},
   "outputs": [],
   "source": [
    "def posterior(theta):\n",
    "    likelihood = binomial_likelihood(N_HEADS, N_TRIALS, theta)\n",
    "    prior = stats.beta(20, 20).pdf(theta)\n",
    "    return likelihood * prior / 0.1341463414634147 # hard code it so that we don't have to re-integrate every time"
   ]
  },
  {
   "cell_type": "code",
   "execution_count": null,
   "metadata": {},
   "outputs": [],
   "source": [
    "plt.plot(theta_space, binomial_likelihood(N_HEADS, N_TRIALS, theta_space), label='Likelihood')\n",
    "plt.plot(theta_space, stats.beta(20, 20).pdf(theta_space), label='Prior')\n",
    "plt.plot(theta_space, posterior(theta_space), label='Posterior')\n",
    "plt.legend(bbox_to_anchor=[1, 0.5], loc='center left')\n",
    "plt.xlabel(\"Theta\")\n",
    "plt.show()"
   ]
  },
  {
   "cell_type": "markdown",
   "metadata": {},
   "source": [
    "The value of theta that maximises the posterior probability is very different to the one that maximised the likelihood. In this example, the prior is clearly the dominating term. This is not always the case, as we gather more data the likelihood function often outweights the prior."
   ]
  },
  {
   "cell_type": "code",
   "execution_count": null,
   "metadata": {},
   "outputs": [],
   "source": [
    "minimize_scalar(\n",
    "    lambda theta: -posterior(theta),\n",
    "    bounds=(0, 1),\n",
    "    method=\"bounded\"\n",
    ")"
   ]
  },
  {
   "cell_type": "code",
   "execution_count": null,
   "metadata": {},
   "outputs": [],
   "source": [
    "# Side question: Did we really need to compute the evidence term? What happens to the shape of the function if we exclude it?"
   ]
  },
  {
   "cell_type": "markdown",
   "metadata": {},
   "source": [
    "### Posterior Statistics\n",
    "\n",
    "Now that we are happy with our model we want to compute some statistics which describe $\\theta$'s distribution.\n",
    "\n",
    "#### A. Expectation value\n",
    "\n",
    "**Exercise:** Compute the expected value of $\\theta$ under the posterior. Note that this is defined by\n",
    "\n",
    "$$\\mathbb{E}\\left[\\theta \\vert y\\right] = \\int_0^{\\infty} \\theta\\ p(\\theta \\vert y) d\\theta $$\n",
    "\n",
    "(Tip: you can do the integration by using ```quad```.)"
   ]
  },
  {
   "cell_type": "code",
   "execution_count": null,
   "metadata": {},
   "outputs": [],
   "source": [
    "mean = quad(\n",
    "    lambda theta: theta * posterior(theta),\n",
    "    0,\n",
    "    np.inf,\n",
    ")[0]\n",
    "\n",
    "print(mean)"
   ]
  },
  {
   "cell_type": "markdown",
   "metadata": {},
   "source": [
    "#### B. Event Probabilities\n",
    "\n",
    "The probability of $\\theta \\in [\\theta_1, \\theta_2]$ under the posterior can be computed by\n",
    "\n",
    "$$ \\int_{\\theta_1}^{\\theta_2} p(\\theta \\vert y) \\mathrm{d} \\theta.$$"
   ]
  },
  {
   "cell_type": "markdown",
   "metadata": {},
   "source": [
    "##### So ... is the mexican peso a fair coin?"
   ]
  },
  {
   "cell_type": "markdown",
   "metadata": {},
   "source": [
    "What do we mean by fair? In practice we know that there's no such thing as a fair coin. Every coin will have some minor imperfections that make it not symmetric. We usually do not care about those imperfections since we have some \"error tolerance\". \n",
    "\n",
    "More technically: Being a continuous variable, there is 0% probability that $\\theta$ is exactly 0.5. It doesn't matter if it is the maximum of the posterior or not! What we should care about is the probability _mass_ around a neighbourhood of 0.5."
   ]
  },
  {
   "cell_type": "markdown",
   "metadata": {},
   "source": [
    "$$\\text{Probability of fair} = \\int_{0.49}^{0.51} p(\\theta \\vert Data) d\\theta $$\n"
   ]
  },
  {
   "cell_type": "code",
   "execution_count": null,
   "metadata": {},
   "outputs": [],
   "source": [
    "tolerance = 0.01"
   ]
  },
  {
   "cell_type": "code",
   "execution_count": null,
   "metadata": {},
   "outputs": [],
   "source": [
    "# Calculate the probability of the coin being \"fair\" within the tolerance\n",
    "# complete the code\n",
    "result, numerical_error = ...\n",
    "print(result)"
   ]
  },
  {
   "cell_type": "markdown",
   "metadata": {},
   "source": [
    "#### C. Quantiles"
   ]
  },
  {
   "cell_type": "markdown",
   "metadata": {},
   "source": [
    "From the posterior distributions we can also compute quantiles.\n",
    "\n",
    "For a given probability $P \\in [0,1]$ the associated posterior quantile is defined by\n",
    "\n",
    "$$ \\arg\\max_x \\left\\{ \\int_0^{x} \\ p(\\theta \\vert y) d\\theta \\le P \\right\\}$$\n",
    "\n",
    "\n",
    "Let's use the formula above to compute the 5-th and 95-th percentile for our $\\theta$ parameter."
   ]
  },
  {
   "cell_type": "code",
   "execution_count": null,
   "metadata": {},
   "outputs": [],
   "source": [
    "def quantile_function(P):\n",
    "    # Complete code\n",
    "    ...\n",
    "    return ..."
   ]
  },
  {
   "cell_type": "code",
   "execution_count": null,
   "metadata": {},
   "outputs": [],
   "source": [
    "print(quantile_function(0.05))\n",
    "print(quantile_function(0.95))"
   ]
  },
  {
   "cell_type": "markdown",
   "metadata": {},
   "source": [
    "# Try it yourself: Incubation period revisited\n",
    "\n",
    "Now we try to answer: What is the _expected_ incubation period  of the virus?"
   ]
  },
  {
   "cell_type": "code",
   "execution_count": null,
   "metadata": {},
   "outputs": [],
   "source": [
    "ys = [9.3, 3.0, 0.7, 11.3, 3.3, 2.3, 14.9, 0.2, 29.5, 16.2]"
   ]
  },
  {
   "cell_type": "code",
   "execution_count": null,
   "metadata": {},
   "outputs": [],
   "source": [
    "beta_space = np.linspace(0.1, 50, num=500)"
   ]
  },
  {
   "cell_type": "markdown",
   "metadata": {},
   "source": [
    "We already constructed the likelihood in the last notebook:"
   ]
  },
  {
   "cell_type": "code",
   "execution_count": null,
   "metadata": {},
   "outputs": [],
   "source": [
    "def exponential_likelihood(y, beta):\n",
    "    y = np.atleast_1d(y)\n",
    "    n = len(np.atleast_1d(y))\n",
    "    num = np.exp(-(1/beta) * sum(y))\n",
    "    den = beta**n\n",
    "    return num / den"
   ]
  },
  {
   "cell_type": "markdown",
   "metadata": {},
   "source": [
    "Let's turn this into a Bayesian inference problem by first defining a prior distribution over the incubation period.\n",
    "Let's assume that the virus is for a _skin_ infection. If you don't have any knowledge of skin infections, here's some info scrapped from a medical website:"
   ]
  },
  {
   "cell_type": "markdown",
   "metadata": {},
   "source": [
    "#### Typical incubation periods of skin infections\n",
    "| disease | incubation (days) |\n",
    "| --- | --- |\n",
    "| chickenpox | 10 to 21 |\n",
    "| Fifth desease | 4 to 14 |\n",
    "| Hand, foot and mouth disease | 3 to 6 |\n",
    "| Impetigo | 2 to 5 |\n",
    "| Lice | 7 |\n",
    "| Measles | 8 to 12 |\n",
    "| Roseola | 9 to 10 |\n",
    "| Rubella | 14 to 21 |\n",
    "| Scabbies | 30 to 45 |\n",
    "| Scarlet fever | 3 to 6 |\n",
    "| Shingles | 14 to 16 |\n",
    "\n",
    "Looking at the table, we see that a typical incubation period can be as low as 2, and as hight as 45 days. \n",
    "\n",
    "But in principle, it could be any positive number (and not necessarily an integer!), so when defining a prior we need to look for a _semi-bounded_ distribution (were the bound is zero), which can take continuous values.\n",
    "\n",
    "The _gamma_ distribution fits these criteria.\n",
    "Find the parameters of a _gamma_ distribution such that 99% of its mass is within those values."
   ]
  },
  {
   "cell_type": "code",
   "execution_count": null,
   "metadata": {},
   "outputs": [],
   "source": [
    "# Change the value of the b parameter until the 99% interval is close to [2, 45]\n",
    "\n",
    "a = 3.5     # Leave fixed\n",
    "b = ...     # Choose a value\n",
    "\n",
    "gamma_prior = stats.gamma(a, loc=0, scale=1/b)\n",
    "gamma_prior.ppf([0.005, 0.995]) # find the 99% interval, is it close to [2, 45] ?"
   ]
  },
  {
   "cell_type": "code",
   "execution_count": null,
   "metadata": {},
   "outputs": [],
   "source": [
    "# visualize your chosen prior\n",
    "plt.title(\"Prior distribution\")\n",
    "plt.plot(beta_space, gamma_prior.pdf(beta_space))\n",
    "plt.xlabel(\"Incubation period (days)\")\n",
    "plt.ylabel(\"Prior density\")\n",
    "plt.show()"
   ]
  },
  {
   "cell_type": "markdown",
   "metadata": {},
   "source": [
    "# Compute the Evidence:\n",
    "\n",
    "$$ p(y) = \\int_{0}^{\\infty}p(y\\vert \\theta) p(\\theta) $$"
   ]
  },
  {
   "cell_type": "code",
   "execution_count": null,
   "metadata": {},
   "outputs": [],
   "source": [
    "# Calculate the integrand\n",
    "def integrand(beta, ys):\n",
    "    # Complete the code \n",
    "    likelihood = exponential_likelihood(ys, beta)\n",
    "    a = 3.5\n",
    "    b = ...\n",
    "    prior = ...\n",
    "    return ..."
   ]
  },
  {
   "cell_type": "code",
   "execution_count": null,
   "metadata": {},
   "outputs": [],
   "source": [
    "# do the integral, remember the second value is the numerical error\n",
    "# If the numerical error is of the same order of magnitude as the result,\n",
    "# increase the precision of the integration by choosing a smaller value for `epsabs`\n",
    "\n",
    "quad(integrand, 0, np.inf, args=(ys,), epsabs=1e-15)"
   ]
  },
  {
   "cell_type": "code",
   "execution_count": null,
   "metadata": {},
   "outputs": [],
   "source": [
    "# complete the code\n",
    "def incubation_posterior(beta, ys):\n",
    "    # Complete the code \n",
    "    likelihood = ...\n",
    "    a = 3.5\n",
    "    b = ...\n",
    "    prior = ...\n",
    "    evidence = ... \n",
    "    return likelihood * prior / evidence"
   ]
  },
  {
   "cell_type": "code",
   "execution_count": null,
   "metadata": {},
   "outputs": [],
   "source": [
    "plt.title(\"Posterior distribution\")\n",
    "plt.plot(beta_space, incubation_posterior(beta_space, ys))\n",
    "plt.xlabel(\"Incubation period (days)\")\n",
    "plt.ylabel(\"Posterior density\")\n",
    "plt.show()"
   ]
  },
  {
   "cell_type": "markdown",
   "metadata": {},
   "source": [
    "#### Show prior, likelihood and posterior"
   ]
  },
  {
   "cell_type": "code",
   "execution_count": null,
   "metadata": {},
   "outputs": [],
   "source": [
    "# Plot together posterior, prior, and likelihood\n",
    "# complete the code\n",
    "plt.plot(beta_space, ..., label='Likelihood')\n",
    "plt.plot(..., label='Prior')\n",
    "plt.plot(..., label='Posterior')\n",
    "plt.legend(bbox_to_anchor=[1, 0.5], loc='center left')\n",
    "plt.xlabel(\"Beta\")\n",
    "plt.show()"
   ]
  },
  {
   "cell_type": "markdown",
   "metadata": {},
   "source": [
    "#### What is the expected value?\n",
    "By definition, it is\n",
    "$$\\mathbb{E}\\left[\\beta \\vert y\\right] = \\int_0^{\\infty} \\beta\\ p(\\beta \\vert y) d\\beta $$"
   ]
  },
  {
   "cell_type": "code",
   "execution_count": null,
   "metadata": {},
   "outputs": [],
   "source": [
    "quad(\n",
    "    lambda beta: beta * incubation_posterior(beta, ys),\n",
    "    0,\n",
    "    np.inf,\n",
    ")"
   ]
  },
  {
   "cell_type": "markdown",
   "metadata": {},
   "source": [
    "#### What is the probability that the incubation period is more than 30 days?"
   ]
  },
  {
   "cell_type": "code",
   "execution_count": null,
   "metadata": {},
   "outputs": [],
   "source": [
    "# Give the answer as the expected value:\n",
    "# Complete the code\n",
    "quad(\n",
    "    ...,\n",
    "    ...,\n",
    "    ...,\n",
    "    epsabs=1e-15,\n",
    ")"
   ]
  },
  {
   "cell_type": "markdown",
   "metadata": {},
   "source": [
    "#### What is the probability that the incubation period is between 8 and 12 days?"
   ]
  },
  {
   "cell_type": "code",
   "execution_count": null,
   "metadata": {},
   "outputs": [],
   "source": [
    "# Write your own code"
   ]
  },
  {
   "cell_type": "code",
   "execution_count": null,
   "metadata": {},
   "outputs": [],
   "source": []
  }
 ],
 "metadata": {
  "kernelspec": {
   "display_name": "Python [conda env:Python3] *",
   "language": "python",
   "name": "conda-env-Python3-py"
  },
  "language_info": {
   "codemirror_mode": {
    "name": "ipython",
    "version": 3
   },
   "file_extension": ".py",
   "mimetype": "text/x-python",
   "name": "python",
   "nbconvert_exporter": "python",
   "pygments_lexer": "ipython3"
  }
 },
 "nbformat": 4,
 "nbformat_minor": 4
}
