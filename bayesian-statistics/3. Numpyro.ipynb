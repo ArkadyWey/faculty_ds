{
 "cells": [
  {
   "cell_type": "code",
   "execution_count": null,
   "metadata": {},
   "outputs": [],
   "source": [
    "%config InlineBackend.figure_format = \"retina\"\n",
    "\n",
    "import os                        \n",
    "import jax.numpy as jnp\n",
    "import matplotlib.pyplot as plt\n",
    "import numpy as np\n",
    "import numpyro\n",
    "import numpyro.distributions as dist\n",
    "import pandas as pd\n",
    "\n",
    "from jax import random\n",
    "from numpyro.infer import MCMC, NUTS, Predictive\n",
    "\n",
    "\n",
    "NUM_CPUS = int(os.environ.get(\"NUM_CPUS\", os.cpu_count()))\n",
    "numpyro.set_host_device_count(NUM_CPUS)\n",
    "\n",
    "# set a random seed\n",
    "seed = random.PRNGKey(42)"
   ]
  },
  {
   "cell_type": "code",
   "execution_count": null,
   "metadata": {},
   "outputs": [],
   "source": [
    "ys = [9.3, 3.0, 0.7, 11.3, 3.3, 2.3, 14.9, 0.2, 29.5, 16.2]"
   ]
  },
  {
   "cell_type": "code",
   "execution_count": null,
   "metadata": {},
   "outputs": [],
   "source": [
    "def model(ys=None):\n",
    "    # prior\n",
    "    beta = numpyro.sample(\"beta\", dist.Gamma(3.5, 0.225))\n",
    "    \n",
    "    # likelihood\n",
    "    numpyro.sample(\"y\", dist.Exponential(1.0 / beta), obs=ys)"
   ]
  },
  {
   "cell_type": "code",
   "execution_count": null,
   "metadata": {},
   "outputs": [],
   "source": [
    "transition_kernel = NUTS(model)\n",
    "mcmc = MCMC(transition_kernel, num_warmup=2000, num_samples=10_000, num_chains=NUM_CPUS)\n",
    "mcmc.run(seed, ys=jnp.array(ys)) # this will generate samples for the posterior of beta"
   ]
  },
  {
   "cell_type": "code",
   "execution_count": null,
   "metadata": {},
   "outputs": [],
   "source": [
    "# extract the samples\n",
    "beta_samples = mcmc.get_samples()[\"beta\"]"
   ]
  },
  {
   "cell_type": "code",
   "execution_count": null,
   "metadata": {},
   "outputs": [],
   "source": [
    "# You can see that the approximate distribution looks like what we obtained analytically by doing integrals\n",
    "plt.hist(beta_samples, bins=30, density=True)\n",
    "plt.show()"
   ]
  },
  {
   "cell_type": "markdown",
   "metadata": {},
   "source": [
    "### Expected value"
   ]
  },
  {
   "cell_type": "code",
   "execution_count": null,
   "metadata": {},
   "outputs": [],
   "source": [
    "jnp.mean(beta_samples)"
   ]
  },
  {
   "cell_type": "markdown",
   "metadata": {},
   "source": [
    "### Larger than 30?"
   ]
  },
  {
   "cell_type": "code",
   "execution_count": null,
   "metadata": {},
   "outputs": [],
   "source": [
    "jnp.mean(beta_samples > 30)"
   ]
  },
  {
   "cell_type": "markdown",
   "metadata": {},
   "source": [
    "### Between 8 and 12 ?"
   ]
  },
  {
   "cell_type": "code",
   "execution_count": null,
   "metadata": {},
   "outputs": [],
   "source": [
    "def between(x, low, high):\n",
    "    return jnp.logical_and(low < x, x < high)"
   ]
  },
  {
   "cell_type": "code",
   "execution_count": null,
   "metadata": {},
   "outputs": [],
   "source": [
    "jnp.mean(between(beta_samples, 8, 12))"
   ]
  },
  {
   "cell_type": "markdown",
   "metadata": {},
   "source": [
    "# Pfizer Vaccine efficacy "
   ]
  },
  {
   "cell_type": "code",
   "execution_count": null,
   "metadata": {},
   "outputs": [],
   "source": [
    "n_treatment = 21_720\n",
    "n_placebo = 21_728\n",
    "positive_cases_treatment = 8\n",
    "positive_cases_placebo = 162\n",
    "\n",
    "def model(n_treatmetn, n_placebo, cases_treatment, cases_placebo):\n",
    "    # --- priors\n",
    "    # --- important: we don't assume different priors for treatment and placebo groups\n",
    "    theta_treatment = numpyro.sample(\"theta_treatment\", dist.Beta(0.700102, 1))\n",
    "    theta_placebo = numpyro.sample(\"theta_placebo\", dist.Beta(0.700102, 1))\n",
    "    \n",
    "    # --- likelihoods\n",
    "    numpyro.sample(\"cases_treatment\", dist.Binomial(n_treatment, theta_treatment), obs=cases_treatment)\n",
    "    numpyro.sample(\"cases_placebo\", dist.Binomial(n_placebo, theta_placebo), obs=cases_placebo)\n",
    "    \n",
    "    # --- derived quantities\n",
    "    numpyro.deterministic(\"efficacy\", 1 - theta_treatment / theta_placebo)"
   ]
  },
  {
   "cell_type": "code",
   "execution_count": null,
   "metadata": {},
   "outputs": [],
   "source": [
    "# This is a very important question that demands high precision results. Therefore we use an unusually large number of samples\n",
    "mcmc = MCMC(NUTS(model), num_warmup=2000, num_samples=100_000, num_chains=NUM_CPUS)\n",
    "mcmc.run(\n",
    "    seed,\n",
    "    n_treatment,\n",
    "    n_placebo,\n",
    "    positive_cases_treatment,\n",
    "    positive_cases_placebo,\n",
    ")"
   ]
  },
  {
   "cell_type": "code",
   "execution_count": null,
   "metadata": {},
   "outputs": [],
   "source": [
    "efficacy = mcmc.get_samples()[\"efficacy\"]"
   ]
  },
  {
   "cell_type": "code",
   "execution_count": null,
   "metadata": {},
   "outputs": [],
   "source": [
    "plt.hist(efficacy, bins=30, density=True)\n",
    "plt.show()"
   ]
  },
  {
   "cell_type": "code",
   "execution_count": null,
   "metadata": {},
   "outputs": [],
   "source": [
    "# pfizer quoted a 95% interval of 90.3 to 97.6. Do we agree?\n",
    "np.quantile(efficacy, [0.025, 0.975])"
   ]
  },
  {
   "cell_type": "code",
   "execution_count": null,
   "metadata": {},
   "outputs": [],
   "source": [
    "# pfizer quoted that the probability that the vaccine is at least 30% efficient is >99.99%. Do we agree?\n",
    "np.mean(efficacy >= 0.30)"
   ]
  },
  {
   "cell_type": "markdown",
   "metadata": {},
   "source": [
    "#### How does the estimate change if we change the prior on the thetas to be uniform distributions?"
   ]
  },
  {
   "cell_type": "code",
   "execution_count": null,
   "metadata": {},
   "outputs": [],
   "source": []
  }
 ],
 "metadata": {
  "kernelspec": {
   "display_name": "Python [conda env:Python3] *",
   "language": "python",
   "name": "conda-env-Python3-py"
  },
  "language_info": {
   "codemirror_mode": {
    "name": "ipython",
    "version": 3
   },
   "file_extension": ".py",
   "mimetype": "text/x-python",
   "name": "python",
   "nbconvert_exporter": "python",
   "pygments_lexer": "ipython3",
   "version": "3.8.3"
  }
 },
 "nbformat": 4,
 "nbformat_minor": 4
}
