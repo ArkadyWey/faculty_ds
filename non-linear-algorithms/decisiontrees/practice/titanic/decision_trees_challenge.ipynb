{
 "cells": [
  {
   "cell_type": "markdown",
   "metadata": {},
   "source": [
    "# Decision Trees - Challenge"
   ]
  },
  {
   "cell_type": "markdown",
   "metadata": {},
   "source": [
    "### Predict which passengers survived the sinking of the Titanic*"
   ]
  },
  {
   "cell_type": "markdown",
   "metadata": {},
   "source": [
    "*The dataset you are going to use comes from a Kaggle competition. "
   ]
  },
  {
   "cell_type": "markdown",
   "metadata": {},
   "source": [
    "The dataset that will be used to solve this problem has been taken from Kaggle competitions. This is a binary classification problem where the task is to predict whether a passenger survived or not the sinking of the Titanic. The dataset is composed of features that describe the passengers. These features will be used to determine whether they survived the sinking (target label is the column **Survival**). The total number of records in the datset is 1,309."
   ]
  },
  {
   "cell_type": "markdown",
   "metadata": {},
   "source": [
    "### The Dataset Description"
   ]
  },
  {
   "cell_type": "markdown",
   "metadata": {},
   "source": [
    "*titanic.csv* is composed of the following columns:\n",
    "\n",
    "* **Name**: Passenger's name.\n",
    "* **PassengerID**: Passenger's indetification number.\n",
    "* **Age**: The age of a passenger in years.\n",
    "* **Sex**: The gender of a passenger.\n",
    "* **SibSp**: The number of siblings/spouses of a passenger (Sibling = brother, sister, stepbrother, stepsister, Spouse = husband, wife).\n",
    "* **Parch**: The number of parents/children of a passenger (Parent = mother, father, Child = daughter, son, stepdaughter, stepson. In case children travelled only with a nanny, parch=0).\n",
    "* **Pclass**: The class of the ticket the passenger purchased (a proxy for socio-economic status: 1=1st (Upper), 2=2nd (Middle), 3=3rd (Lower)).\n",
    "* **Ticket**: The ticket number of a passenger.\n",
    "* **Fare**: The fare the passenger paid.\n",
    "* **Cabin**: The cabin number of a passenger.\n",
    "* **Embarked**: The port where the passenger embarked (C=Cherbourg, Q=Queenstown, S=Southampton) .\n",
    "* **Survived**: Whether the passenger survived or not (0=No, 1=Yes)."
   ]
  },
  {
   "cell_type": "markdown",
   "metadata": {},
   "source": [
    "Here are some tips that might help you in buidling your classifier:\n",
    "\n",
    "* Familiarise yourself with the dataset content. Check whether the features are categorical or numerical values, is there a missing data in your columns, do you need to perform data normalisation. If you need help, check this website: https://scikit-learn.org/stable/ . Note in case of categorical features you should convert them to *dummy* variables. This might be helpful: https://pandas.pydata.org/pandas-docs/stable/generated/pandas.get_dummies.html\n",
    "\n",
    "\n",
    "* Explore your dataset. Before training the classification model, it is advisable to plot the distribution of the features, check the correlation between them, understand the importance of features in solving the given problem.\n",
    "\n",
    "\n",
    "* Import decision tree classifier and tune hyper-parameters of interest: https://scikit-learn.org/stable/modules/generated/sklearn.tree.DecisionTreeClassifier.html#sklearn.tree.DecisionTreeClassifier. \n",
    "\n",
    "\n",
    "* Split the data into train and test set. The training data is used to train the classification model you choose, after which the model will be used to make predictions on the test dataset. Check: https://scikit-learn.org/stable/modules/generated/sklearn.model_selection.train_test_split.html or if you are interested in more advanced data splitting, check: https://scikit-learn.org/stable/modules/generated/sklearn.model_selection.KFold.html\n",
    "\n",
    "\n",
    "* When you reach the stage to evaluate the performance of your classifier, define the metrics you want to observe, such as for example: accuracy, confusion matrix, ROC curve. Again, check https://scikit-learn.org/."
   ]
  },
  {
   "cell_type": "markdown",
   "metadata": {},
   "source": [
    "Have fun!"
   ]
  },
  {
   "cell_type": "code",
   "execution_count": null,
   "metadata": {},
   "outputs": [],
   "source": [
    "# Here are some packages that might be useful for your work.\n",
    "# Feel free to add more packges if needed.\n",
    "import pandas as pd\n",
    "import numpy as np\n",
    "from matplotlib import pyplot as plt\n",
    "\n",
    "path_data = \"https://s3-eu-west-1.amazonaws.com/faculty-client-teaching-materials/non-linear-algorithms/titanic.csv\""
   ]
  },
  {
   "cell_type": "code",
   "execution_count": null,
   "metadata": {},
   "outputs": [],
   "source": [
    "# Read the dataset as .csv and check its size.\n",
    "df = pd.read_csv(path_data)\n",
    "\n",
    "print(\"Dimensions of the dataset: {}\".format(df.shape))"
   ]
  },
  {
   "cell_type": "code",
   "execution_count": null,
   "metadata": {},
   "outputs": [],
   "source": [
    "# Check the names of the columns.\n",
    "df.columns"
   ]
  },
  {
   "cell_type": "code",
   "execution_count": null,
   "metadata": {},
   "outputs": [],
   "source": [
    "# Check the type of each column.\n",
    "df.dtypes"
   ]
  },
  {
   "cell_type": "code",
   "execution_count": null,
   "metadata": {},
   "outputs": [],
   "source": [
    "# Check the content of the dataframe.\n",
    "df.head()"
   ]
  },
  {
   "cell_type": "code",
   "execution_count": null,
   "metadata": {},
   "outputs": [],
   "source": []
  }
 ],
 "metadata": {
  "kernelspec": {
   "display_name": "Python 3",
   "language": "python",
   "name": "python3"
  },
  "language_info": {
   "codemirror_mode": {
    "name": "ipython",
    "version": 3
   },
   "file_extension": ".py",
   "mimetype": "text/x-python",
   "name": "python",
   "nbconvert_exporter": "python",
   "pygments_lexer": "ipython3",
   "version": "3.8.3"
  }
 },
 "nbformat": 4,
 "nbformat_minor": 4
}
