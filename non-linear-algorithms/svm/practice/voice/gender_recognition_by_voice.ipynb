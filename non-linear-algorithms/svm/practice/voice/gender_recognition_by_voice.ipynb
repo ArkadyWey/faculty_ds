{
 "cells": [
  {
   "cell_type": "markdown",
   "metadata": {},
   "source": [
    "# SVM Challenge\n",
    "## Identify gender by voice\n",
    "\n",
    "**Gender recognition by voice - identify a voice as male or female**\n",
    "\n",
    "The dataset you are going to use comes from a Kaggle competition. It contains measurements taken on 3,168 voice recordings, and the goal is to classify a data point as male or female. \n",
    "\n",
    "The dataset is balanced and it contains a relatively small number of features: those are two conditions in which using SVMs could lead to good results. \n",
    "\n",
    "Apart from choosing the kernel and tuning the hyper parameters, you should spend some time exploring the features and selecting only the ones you think are relevant. \n",
    "\n",
    "The dataset is stored in the file `voice.csv`. \n",
    "\n",
    "To share their findings and approach, every team should prepare a very short presentation (max 4 minutes) to talk through at the end of the afternoon. \n",
    "\n",
    "\n",
    "**The Dataset**\n",
    "\n",
    "The following acoustic properties of each voice are measured and included within the CSV:\n",
    "\n",
    "* **meanfreq**: mean frequency (in kHz)\n",
    "* **sd**: standard deviation of frequency\n",
    "* **median**: median frequency (in kHz)\n",
    "* **Q25**: first quantile (in kHz)\n",
    "* **Q75**: third quantile (in kHz)\n",
    "* **IQR**: interquantile range (in kHz)\n",
    "* **skew**: skewness (see note in specprop description)\n",
    "* **kurt**: kurtosis (see note in specprop description)\n",
    "* **sp.ent**: spectral entropy\n",
    "* **sfm**: spectral flatness\n",
    "* **mode**: mode frequency\n",
    "* **centroid**: frequency centroid (see specprop)\n",
    "* **peakf**: peak frequency (frequency with highest energy)\n",
    "* **meanfun**: average of fundamental frequency measured across acoustic signal\n",
    "* **minfun**: minimum fundamental frequency measured across acoustic signal\n",
    "* **maxfun**: maximum fundamental frequency measured across acoustic signal\n",
    "* **meandom**: average of dominant frequency measured across acoustic signal\n",
    "* **mindom**: minimum of dominant frequency measured across acoustic signal\n",
    "* **maxdom**: maximum of dominant frequency measured across acoustic signal\n",
    "* **dfrange**: range of dominant frequency measured across acoustic signal\n",
    "* **modindx**: modulation index. Calculated as the accumulated absolute difference between adjacent measurements of fundamental frequencies divided by the frequency range\n",
    "* **label**: male or female"
   ]
  },
  {
   "cell_type": "code",
   "execution_count": null,
   "metadata": {},
   "outputs": [],
   "source": [
    "# import relevant libraries\n",
    "\n",
    "import pandas as pd\n",
    "\n",
    "from sklearn.svm import SVC\n",
    "import numpy as np\n",
    "import random\n",
    "\n",
    "from matplotlib import pyplot as plt\n",
    "\n",
    "%matplotlib inline"
   ]
  },
  {
   "cell_type": "code",
   "execution_count": null,
   "metadata": {},
   "outputs": [],
   "source": [
    "df = pd.read_csv(\"voice.csv\")"
   ]
  },
  {
   "cell_type": "code",
   "execution_count": null,
   "metadata": {
    "scrolled": true
   },
   "outputs": [],
   "source": [
    "df.head()"
   ]
  },
  {
   "cell_type": "markdown",
   "metadata": {},
   "source": [
    "Enjoy!"
   ]
  },
  {
   "cell_type": "code",
   "execution_count": null,
   "metadata": {},
   "outputs": [],
   "source": [
    "df.shape"
   ]
  },
  {
   "cell_type": "code",
   "execution_count": null,
   "metadata": {},
   "outputs": [],
   "source": [
    "df.columns"
   ]
  },
  {
   "cell_type": "code",
   "execution_count": null,
   "metadata": {
    "scrolled": false
   },
   "outputs": [],
   "source": [
    "# let's plot a scatterplot\n",
    "\n",
    "use_colour = {\"male\": \"blue\", \"female\": \"red\"}\n",
    "fig = plt.figure(figsize=(14, 12))\n",
    "\n",
    "features = list(df.columns)\n",
    "features.remove(\"label\")\n",
    "\n",
    "# Currently, selecting 5 random features to examine at random. Running this cell again will select 5 different features\n",
    "# so the result of running this cell will differ every time it is run\n",
    "features_to_examine = random.sample(features, 5)\n",
    "\n",
    "# we are going to examine the scatter plots of all variables in the above list with all others, this means we will\n",
    "# have 5x5=25 plots.\n",
    "nfeat = len(features_to_examine)\n",
    "\n",
    "counter = 1\n",
    "for j in xrange(nfeat):\n",
    "    for k in xrange(nfeat):\n",
    "        # subplot takes 3 arguments.\n",
    "        # If the final plot is going to be 5 x 5 subplots for example, both of these arguments must be equal to 5.\n",
    "        # The third argument should be incremented sequentially and matplotlib will then decide where to place it\n",
    "        # Here, the variable \"counter\" is incremented at every step\n",
    "        plt.subplot(nfeat, nfeat, counter)\n",
    "        counter += 1\n",
    "        plt.scatter(\n",
    "            df[features_to_examine[j]],\n",
    "            df[features_to_examine[k]],\n",
    "            c=[use_colour[i] for i in df[\"label\"]],\n",
    "        )\n",
    "        plt.xlabel(features_to_examine[j])\n",
    "        plt.ylabel(features_to_examine[k])\n",
    "        fig.tight_layout()\n",
    "\n",
    "plt.show()"
   ]
  }
 ],
 "metadata": {
  "anaconda-cloud": {},
  "kernelspec": {
   "display_name": "Python [conda env:Python2]",
   "language": "python",
   "name": "conda-env-Python2-py"
  },
  "language_info": {
   "codemirror_mode": {
    "name": "ipython",
    "version": 2
   },
   "file_extension": ".py",
   "mimetype": "text/x-python",
   "name": "python",
   "nbconvert_exporter": "python",
   "pygments_lexer": "ipython2",
   "version": "2.7.15"
  }
 },
 "nbformat": 4,
 "nbformat_minor": 1
}
