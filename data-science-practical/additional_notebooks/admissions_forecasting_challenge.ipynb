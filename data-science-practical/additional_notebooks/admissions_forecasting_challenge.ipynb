{
 "cells": [
  {
   "cell_type": "markdown",
   "metadata": {},
   "source": [
    "# Forecast COVID19 admissions in England\n",
    "\n",
    "Perform a simple time series analysis and forecast to predict the daily number of COVID realted hospital admissions in England. The [`statsmodels`](https://www.statsmodels.org/stable/index.html) package has several useful implementations of autogressive models. This notebook will explore how to generate forecasts and incorporate additioanl real time indicator information\n",
    "\n",
    "### Use the following data\n",
    "\n",
    "downloaded from https://coronavirus.data.gov.uk/ on 27 Jan 2021\n",
    "\n",
    "* Patients admitted to hospital, `newAdmissions`\n",
    "\n",
    "  * Daily and cumulative numbers of COVID-19 patients admitted to hospital. Data are not updated every day by all four nations and the figures for Wales are not comparable to those for other nations as Wales include suspected COVID-19 patients while the other nations include only confirmed cases.\n",
    "\n",
    "\n",
    "* Cases (positive tests) by date reported, `newCasesByPublishDate`\n",
    "\n",
    "  * Number of individuals who have had at least one positive COVID-19 test result (either lab-reported or lateral flow device), by date reported. Initially only pillar 1 tests (NHS and, in England, PHE labs) were included but commercial tests have been included from varying dates between 15th June and 14th July for each nation, leading to step increases in the numbers of cases reported at different times.\n",
    "\n",
    "\n",
    "* Tests conducted by Pillar, `newTestsByPublishDate`\n",
    "\n",
    "  * Number of confirmed positive, negative or void COVID-19 test results. This is a count of test results and may include multiple tests for an individual person. Data for surveillance testing (pillar 4) are only available for the UK as a whole.\n",
    "\n",
    "\n",
    "### Use autoregressive models to forecast daily admissions\n",
    "\n",
    "Limit the scope of this session to exploring simple, linear models.\n",
    "\n",
    "Study how incorportaing additional real time indicator data can help improve the power of simple foreasting models\n",
    "\n",
    "**Simplify the problem for this session**\n",
    "\n",
    "* Focus on forecasts for January 2021\n",
    "* Only consider data from August 2020 - Consider only latest wave of cases\n",
    "\n"
   ]
  },
  {
   "cell_type": "code",
   "execution_count": null,
   "metadata": {},
   "outputs": [],
   "source": [
    "import pandas as pd\n",
    "import matplotlib.pyplot as plt\n",
    "import matplotlib.dates as mdates\n",
    "\n",
    "from dateutil.relativedelta import relativedelta\n",
    "\n",
    "import numpy as np"
   ]
  },
  {
   "cell_type": "markdown",
   "metadata": {},
   "source": [
    "### Define some useful functions\n",
    "\n"
   ]
  },
  {
   "cell_type": "code",
   "execution_count": null,
   "metadata": {},
   "outputs": [],
   "source": [
    "def apply_date_selection(\n",
    "    in_df,\n",
    "    start_date=None,\n",
    "    end_date=None,\n",
    "):\n",
    "    \"\"\"\n",
    "    Fuction returns dataframe sliced within\n",
    "    specified date range\n",
    "    \"\"\"\n",
    "\n",
    "    data = in_df.copy()\n",
    "\n",
    "    if start_date:\n",
    "        start_date = pd.to_datetime(start_date)\n",
    "        data = data[data['date'] >= start_date]\n",
    "    if end_date:\n",
    "        end_date = pd.to_datetime(end_date)\n",
    "        data = data[data['date'] <= end_date]\n",
    "\n",
    "    return data\n",
    "\n",
    "def plot_first_diff(df, x, y):\n",
    "    \n",
    "    \"\"\"\n",
    "    plots the variables y against x\n",
    "    and the first difference of y against x \n",
    "    from dataframe df\n",
    "    \"\"\"\n",
    "    \n",
    "    fig, axs = plt.subplots(1,2,figsize=(12,4))\n",
    "    \n",
    "    axs[0].plot(df[x], df[y])\n",
    "    axs[0].xaxis.set_major_locator(mdates.MonthLocator())\n",
    "    axs[0].xaxis.set_major_formatter(mdates.DateFormatter('%m-%Y'))\n",
    "    axs[0].set_title(y)\n",
    "    axs[0].xaxis.set_tick_params(rotation=40)\n",
    "\n",
    "    axs[1].plot(df[x], df[y].diff())\n",
    "    axs[1].xaxis.set_major_locator(mdates.MonthLocator())\n",
    "    axs[1].xaxis.set_major_formatter(mdates.DateFormatter('%m-%Y'))\n",
    "    axs[1].set_title(f'First difference {y}')\n",
    "    axs[1].xaxis.set_tick_params(rotation=40)\n",
    "    \n",
    "    fig.show()\n",
    "    \n",
    "\n",
    "def mean_absolute_percentage_error(y_true, y_pred): \n",
    "    try:\n",
    "        return np.mean(np.abs((y_true - y_pred) / y_true)) * 100\n",
    "    except:\n",
    "        raise ValueError(\"cannot calculate MAPE\")\n",
    "    "
   ]
  },
  {
   "cell_type": "markdown",
   "metadata": {},
   "source": [
    "## Load in the data\n",
    "\n",
    "#### For now only consider data from August 2020 onwards"
   ]
  },
  {
   "cell_type": "code",
   "execution_count": null,
   "metadata": {},
   "outputs": [],
   "source": [
    "path_ = 'https://s3-eu-west-1.amazonaws.com/fellowship-teaching-materials/data-practical/formatted_covid_data_2021-Jan-27.csv'\n",
    "df = pd.read_csv(path_)\n",
    "\n",
    "# Format date column asd datetime\n",
    "df.date = pd.to_datetime(df.date )\n",
    "df = df.sort_values('date', ascending=True)\n",
    "#For this session we will only consider data from August 2020 onwards\n",
    "df = df[df.date >= \"2020-08-01\"]"
   ]
  },
  {
   "cell_type": "code",
   "execution_count": null,
   "metadata": {},
   "outputs": [],
   "source": [
    "df.head()"
   ]
  },
  {
   "cell_type": "markdown",
   "metadata": {},
   "source": [
    "## ARIMA model\n",
    "\n",
    "Forecast using statmsmodels Autoregressive Integrated Moving Average [`(ARIMA)`](https://www.statsmodels.org/stable/generated/statsmodels.tsa.arima.model.ARIMA.html) model\n",
    "* From the docs: `The (p,d,q) order of the model for the autoregressive, differences, and moving average components. d is always an integer, while p and q may either be integers or lists of integers.`\n",
    "* We will focus on using an inegrated model to forecast the first difference in admissions `ARIMA(p, d, q)` where `d=1` and `q=0`\n",
    "\n",
    "More details on ARIMA models and time series analysis can be found [here](https://otexts.com/fpp2/AR.html)\n",
    "\n",
    "\n",
    "#### Plot Admissions and the first diff"
   ]
  },
  {
   "cell_type": "code",
   "execution_count": null,
   "metadata": {},
   "outputs": [],
   "source": [
    "plot_first_diff(df, 'date', 'newAdmissions')"
   ]
  },
  {
   "cell_type": "code",
   "execution_count": null,
   "metadata": {},
   "outputs": [],
   "source": [
    "from statsmodels.tsa.arima.model import ARIMA\n",
    "from sklearn.metrics import mean_squared_error, r2_score"
   ]
  },
  {
   "cell_type": "markdown",
   "metadata": {},
   "source": [
    "### Forecast 2 weeks into the future\n",
    "\n",
    "Generate forecast from the start of the year"
   ]
  },
  {
   "cell_type": "code",
   "execution_count": null,
   "metadata": {},
   "outputs": [],
   "source": [
    "# Number of days to consider\n",
    "n_steps = 14\n",
    "timestep = relativedelta(days=1)\n",
    "\n",
    "#Number of past datapoints used for inference\n",
    "p = 12\n",
    "\n",
    "# Date from which to forecast\n",
    "train_end_date = pd.to_datetime('2020-12-31')\n",
    "# Forecasted dates\n",
    "forecast_dates = (timestep*np.arange(1, n_steps + 1)) + train_end_date\n",
    "\n",
    "# Get train and test data\n",
    "train_data = apply_date_selection(df, end_date=train_end_date)\n",
    "test_data = apply_date_selection(df, start_date=forecast_dates[0], end_date=forecast_dates[-1])\n",
    "\n",
    "#instantiate and fit model\n",
    "model = ARIMA(train_data.newAdmissions.to_numpy(), order=(p, 1, 0)).fit()\n",
    "\n",
    "forecast_vals = model.get_forecast(n_steps).predicted_mean\n",
    "\n",
    "# calculate some performance metrics\n",
    "forecast_mape = mean_absolute_percentage_error(test_data.newAdmissions, forecast_vals)\n",
    "forecast_r2_score = r2_score(test_data.newAdmissions, forecast_vals)\n",
    "\n",
    "\n",
    "plt.figure(figsize=(8,5))\n",
    "plt.plot(df.date, df.newAdmissions, label='data', color=\"#FA7268\")\n",
    "plt.plot(forecast_dates,forecast_vals, label='forecast', linewidth=2, color='black')\n",
    "plt.legend()\n",
    "plt.title(f'Admissions forecast from {train_end_date.strftime(\"%d-%m-%y\")}, MAPE:{forecast_mape:.2f}, r2:{forecast_r2_score:.2f}')\n",
    "plt.show()"
   ]
  },
  {
   "cell_type": "markdown",
   "metadata": {},
   "source": [
    "## ARIMA results\n",
    "\n",
    "The model captures the weekly trend successfully\n",
    "\n",
    "#### However, the overall number of cases begins to decline after 2021-01-10\n",
    "* Try forecasting 2 weeks from the 10th of January, is the forecast still consistent with the data?\n",
    "\n",
    "The ARIMA model struggles to predict when a peak is likely to turn over, i.e when the weekly average number of admissions starts to decrease.\n",
    "\n",
    "Can we incorporate additional information into our model?\n",
    "\n",
    "# Vector autoregression (VAR)\n",
    "\n",
    "[VAR models ](https://www.statsmodels.org/dev/vector_ar.html) linearly fit multiple time series simultaneously in order improve performance. \n",
    "In this case \n",
    "\n",
    "#### Start by plotting the number of new Cases\n",
    "\n"
   ]
  },
  {
   "cell_type": "code",
   "execution_count": null,
   "metadata": {},
   "outputs": [],
   "source": [
    "from statsmodels.tsa.api import VAR\n",
    "\n",
    "plot_first_diff(df, 'date', 'newCasesByPublishDate')"
   ]
  },
  {
   "cell_type": "code",
   "execution_count": null,
   "metadata": {},
   "outputs": [],
   "source": [
    "# Number of days to consider\n",
    "n_steps = 14\n",
    "timestep = relativedelta(days=1)\n",
    "\n",
    "#Number of past datapoints used for inference\n",
    "p = 12\n",
    "\n",
    "# Date from which to forecast\n",
    "train_end_date = pd.to_datetime('2021-01-10')\n",
    "# Forecasted dates\n",
    "forecast_dates = (timestep * np.arange(1, n_steps + 1)) + train_end_date\n",
    "\n",
    "\n",
    "# Get train and test data\n",
    "train_data = apply_date_selection(df, end_date=train_end_date)\n",
    "test_data = apply_date_selection(df, start_date=forecast_dates[0], end_date=forecast_dates[-1])\n",
    "\n",
    "train_data = train_data[['newAdmissions', 'newCasesByPublishDate', 'date']].set_index('date')\n",
    "\n",
    "model_instance = VAR(train_data)\n",
    "results = model_instance.fit(p)\n",
    "\n",
    "#print(results.summary())\n",
    "\n",
    "lag_order = results.k_ar\n",
    "forecast_vals = results.forecast(train_data.values[-lag_order:], n_steps)[:, 0]\n",
    "\n",
    "# calculate some performance metrics\n",
    "forecast_mape = mean_absolute_percentage_error(test_data.newAdmissions, forecast_vals)\n",
    "forecast_r2_score = r2_score(test_data.newAdmissions, forecast_vals)\n",
    "\n",
    "plt.figure(figsize=(8,5))\n",
    "plt.plot(df.date, df.newAdmissions, label='data', color=\"#FA7268\")\n",
    "plt.plot(forecast_dates, forecast_vals, label='forecast', color='black', linewidth=2,)\n",
    "plt.legend()\n",
    "plt.title(f'Admissions forecast from {train_end_date.strftime(\"%d-%m-%y\")}, MAPE:{forecast_mape:.2f}, r2:{forecast_r2_score:.2f}')\n",
    "plt.show()"
   ]
  },
  {
   "cell_type": "markdown",
   "metadata": {},
   "source": [
    "## Using Testing data tends to improve model perforamance\n",
    "\n",
    "#### Several other things could be done to improve the model\n",
    "\n",
    "* The statsmodel VAR implementation does not automatically take the first difference, can try implementing it\n",
    "* Could try incorporating the additional covid testing data\n",
    "* Test other model hyperparameters"
   ]
  },
  {
   "cell_type": "code",
   "execution_count": null,
   "metadata": {},
   "outputs": [],
   "source": []
  },
  {
   "cell_type": "code",
   "execution_count": null,
   "metadata": {},
   "outputs": [],
   "source": []
  }
 ],
 "metadata": {
  "kernelspec": {
   "display_name": "Python [conda env:Python3] *",
   "language": "python",
   "name": "conda-env-Python3-py"
  },
  "language_info": {
   "codemirror_mode": {
    "name": "ipython",
    "version": 3
   },
   "file_extension": ".py",
   "mimetype": "text/x-python",
   "name": "python",
   "nbconvert_exporter": "python",
   "pygments_lexer": "ipython3",
   "version": "3.8.3"
  }
 },
 "nbformat": 4,
 "nbformat_minor": 2
}
