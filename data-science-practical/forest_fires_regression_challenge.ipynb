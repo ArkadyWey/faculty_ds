{
 "cells": [
  {
   "cell_type": "markdown",
   "metadata": {},
   "source": [
    "#  Predicting the burned area of forest fires, in the northeast region of Portugal"
   ]
  },
  {
   "cell_type": "markdown",
   "metadata": {},
   "source": [
    " #### This dataset consists of 517 instances, 12 attributes and the output attribute. Here is the description of each attribute in the dataset:\n",
    "   \n",
    "   1. **X** - x-axis spatial coordinate within the Montesinho park map: 1 to 9\n",
    "   2. **Y** - y-axis spatial coordinate within the Montesinho park map: 2 to 9\n",
    "   3. **month** - month of the year: \"jan\" to \"dec\" \n",
    "   4. **day** - day of the week: \"mon\" to \"sun\"\n",
    "   5. **The Fine Fuel Moisture Code (FFMC)** - FFMC index from the FWI system: 18.7 to 96.20\n",
    "   6. **The Duff Moisture Code (DMC)** - DMC index from the FWI system: 1.1 to 291.3 \n",
    "   7. **The Drought Code (DC)** - DC index from the FWI system: 7.9 to 860.6 \n",
    "   8. **The Initial Spread Index (ISI)** - ISI index from the FWI system: 0.0 to 56.10\n",
    "   9. **temp** - temperature in Celsius degrees: 2.2 to 33.30\n",
    "   10. **RH** - relative humidity in %: 15.0 to 100\n",
    "   11. **wind** - wind speed in km/h: 0.40 to 9.40 \n",
    "   12. **rain** - outside rain in mm/m2 : 0.0 to 6.4 \n",
    "   13. **area** - the burned area of the forest (in ha): 0.00 to 1090.84 \n",
    "   (this output variable is very skewed towards 0.0, thus it may make\n",
    "    sense to model with the logarithm transform).\n",
    "    \n",
    "More information about the variables is available [here](https://cwfis.cfs.nrcan.gc.ca/background/summary/fwi)"
   ]
  },
  {
   "cell_type": "markdown",
   "metadata": {},
   "source": [
    "The package [sklearn](https://scikit-learn.org/stable/supervised_learning.html#supervised-learning) is the industry standard for ML algorithms that can be used out of the box quickly- you should use it. "
   ]
  },
  {
   "cell_type": "markdown",
   "metadata": {},
   "source": [
    "Citation: \n",
    "\n",
    "* This dataset has been taken from repository Dua, D. and Graff, C. (2019). UCI Machine Learning Repository [http://archive.ics.uci.edu/ml]. Irvine, CA: University of California, School of Information and Computer Science.\n",
    "\n",
    "\n",
    "* P. Cortez and A. Morais. A Data Mining Approach to Predict Forest Fires using Meteorological Data. In J. Neves, M. F. Santos and J. Machado Eds., New Trends in Artificial Intelligence, Proceedings of the 13th EPIA 2007 - Portuguese Conference on Artificial Intelligence, December, Guimaraes, Portugal, pp. 512-523, 2007. APPIA, ISBN-13 978-989-95618-0-9.\n",
    "\n",
    "---"
   ]
  },
  {
   "cell_type": "markdown",
   "metadata": {},
   "source": [
    "#### This is a regression problem with the target being the `area` column."
   ]
  },
  {
   "cell_type": "code",
   "execution_count": null,
   "metadata": {},
   "outputs": [],
   "source": [
    "# Feel free to import more packages (i.e., numpy, sklearn packages) as required.\n",
    "import pandas as pd\n",
    "import matplotlib.pyplot as plt\n",
    "import numpy as np\n",
    "import seaborn as sns\n",
    "\n",
    "import mlflow\n",
    "import mlflow.sklearn\n",
    "import tempfile\n",
    "import os\n",
    "\n",
    "%matplotlib inline\n",
    "from sklearn.linear_model import LinearRegression\n",
    "from sklearn.model_selection import train_test_split\n",
    "from sklearn.metrics import mean_squared_error, mean_absolute_error, r2_score"
   ]
  },
  {
   "cell_type": "code",
   "execution_count": null,
   "metadata": {},
   "outputs": [],
   "source": [
    "path_ = 'https://s3-eu-west-1.amazonaws.com/fellowship-teaching-materials/data-practical/forestfires.csv'"
   ]
  },
  {
   "cell_type": "code",
   "execution_count": null,
   "metadata": {},
   "outputs": [],
   "source": [
    "df = pd.read_csv(path_)\n",
    "print(len(df))\n",
    "df.head()"
   ]
  },
  {
   "cell_type": "markdown",
   "metadata": {},
   "source": [
    "## check data\n",
    "- Datas are clean - no null values found\n",
    "- The area ranges between 0 and approx 1000, with very few values. We rescale the plots to understand better\n"
   ]
  },
  {
   "cell_type": "code",
   "execution_count": null,
   "metadata": {},
   "outputs": [],
   "source": [
    "print(f'Null values: {df.isnull().values.any()}')"
   ]
  },
  {
   "cell_type": "code",
   "execution_count": null,
   "metadata": {},
   "outputs": [],
   "source": [
    "print(f'NaN values: {df.isna().values.any()}' )"
   ]
  },
  {
   "cell_type": "code",
   "execution_count": null,
   "metadata": {},
   "outputs": [],
   "source": [
    "Nfeat = len(df.columns)-1\n",
    "\n",
    "fig = plt.figure('Features summary', (16,14) )\n",
    "Ax=fig.subplots(4, 3, sharex=False, sharey=True, squeeze=False, subplot_kw=None, gridspec_kw=None)\n",
    "\n",
    "rr,cc=0,0\n",
    "for ii,feature in zip(range(Nfeat), df.columns[:-1] ) :\n",
    "    rr=ii//3\n",
    "    cc=ii%3\n",
    "    \n",
    "    # print('plotting feat %s into %d,%d' %(feature, rr, cc) )\n",
    "    ax = Ax[rr,cc]\n",
    "    ax.set_ylabel(\"area\")\n",
    "    ax.set_title('%s' %df.columns[ii] )\n",
    "    ax.plot( df[feature].values, df.area.values, ls='', marker='.' )\n",
    "    ax.set_ylim(0, 400)\n"
   ]
  },
  {
   "cell_type": "markdown",
   "metadata": {},
   "source": [
    "## Simple model - Linear regression\n",
    "- perform any necessary feature engineering (month & days)\n",
    "- choose features\n",
    "- split dataset\n",
    "---"
   ]
  },
  {
   "cell_type": "markdown",
   "metadata": {},
   "source": [
    "#### Turn `month` and `day` into features\n",
    "\n",
    " * Map the `day` feature to distinct categories\n",
    " * One hot encode the `month` feature"
   ]
  },
  {
   "cell_type": "code",
   "execution_count": null,
   "metadata": {},
   "outputs": [],
   "source": [
    "df.day.unique()"
   ]
  },
  {
   "cell_type": "code",
   "execution_count": null,
   "metadata": {},
   "outputs": [],
   "source": [
    "day_map = {'fri':5, 'mon':1, 'tue':2, 'sat':6, 'sun':7,  'wed':3, 'thu':4}\n",
    "df.day = df.day.map(day_map)\n",
    "\n",
    "OH_month = pd.get_dummies(df.month)\n",
    "\n",
    "df = df.drop(\"month\", axis=1)\n",
    "df = df.merge(OH_month, left_index=True, right_index=True)"
   ]
  },
  {
   "cell_type": "code",
   "execution_count": null,
   "metadata": {},
   "outputs": [],
   "source": [
    "df.head()"
   ]
  },
  {
   "cell_type": "code",
   "execution_count": null,
   "metadata": {},
   "outputs": [],
   "source": [
    "X,y = df.drop(\"area\", axis=1), df[\"area\"]\n",
    "X"
   ]
  },
  {
   "cell_type": "markdown",
   "metadata": {},
   "source": [
    "---\n",
    "Split the data for model training and testing"
   ]
  },
  {
   "cell_type": "code",
   "execution_count": null,
   "metadata": {},
   "outputs": [],
   "source": [
    "X_train, X_test, y_train, y_test = train_test_split(X, y, test_size=0.2, random_state=1935)"
   ]
  },
  {
   "cell_type": "markdown",
   "metadata": {},
   "source": [
    "### Use MLFlow and the Platform Feature 'Experiments' to keep track of our experiment setup, model, and results. \n",
    "\n",
    "* Allows you to track multiple experiments and compare the performance of different parameter choices"
   ]
  },
  {
   "cell_type": "code",
   "execution_count": null,
   "metadata": {},
   "outputs": [],
   "source": [
    "## Change this please to 'forest-fires-yourName'\n",
    "experiment_name = #\"forest-fires-default\""
   ]
  },
  {
   "cell_type": "code",
   "execution_count": null,
   "metadata": {},
   "outputs": [],
   "source": [
    "mlflow.set_experiment(experiment_name) "
   ]
  },
  {
   "cell_type": "code",
   "execution_count": null,
   "metadata": {},
   "outputs": [],
   "source": [
    "# setup model and hyper_parameters\n",
    "hyper_parameters = {'fit_intercept': True}\n",
    "model = LinearRegression(fit_intercept=hyper_parameters['fit_intercept'])\n",
    "model_name = 'LinearRegression'"
   ]
  },
  {
   "cell_type": "code",
   "execution_count": null,
   "metadata": {},
   "outputs": [],
   "source": [
    "with mlflow.start_run():\n",
    "    \n",
    "    # set useful tags about experiment setup\n",
    "    mlflow.set_tag(\"model\", model_name)\n",
    "    mlflow.set_tag(\"features\", 'all')\n",
    "    \n",
    "    # track your model parameters\n",
    "    for name, val in hyper_parameters.items():\n",
    "        mlflow.log_param(name, val)\n",
    "\n",
    "    # train model\n",
    "    model.fit(X_train, y_train)\n",
    "    # log trained model \n",
    "    mlflow.sklearn.log_model(model, model_name)\n",
    "\n",
    "    # evaluate model\n",
    "    predictions = model.predict(X_test)\n",
    "    MAE = mean_absolute_error(y_test, predictions)\n",
    "    RMSE = np.sqrt(mean_squared_error(y_test, predictions))\n",
    "    RSQ = r2_score(y_test, predictions)\n",
    "    # log performance metrics\n",
    "    mlflow.log_metric('MAE', MAE)\n",
    "    mlflow.log_metric('RMSE', RMSE)\n",
    "    mlflow.log_metric('RSQ', RSQ)\n",
    "    \n",
    "    # plot and log residuals\n",
    "    with tempfile.TemporaryDirectory() as temp_dir:\n",
    "        image_path = os.path.join(temp_dir, \"residuals.png\")\n",
    "        # plot model residuals \n",
    "        fig, ax = plt.subplots(figsize=(16,8))\n",
    "        ax = sns.residplot(x=y_test, y=predictions, color=\"g\")\n",
    "        ax.set_title('model residuals')\n",
    "        plt.savefig(image_path)\n",
    "        plt.show()\n",
    "        plt.close()\n",
    "        mlflow.log_artifact(image_path)\n",
    "\n",
    "mlflow.end_run()  \n",
    "print('Experiment Finished')"
   ]
  },
  {
   "cell_type": "code",
   "execution_count": null,
   "metadata": {},
   "outputs": [],
   "source": []
  },
  {
   "cell_type": "markdown",
   "metadata": {},
   "source": [
    "---\n",
    "## Challenge\n",
    "\n",
    "Can you improve on the above performace? Below are some suggestions for things to look into, but you're free to try anything that comes to mind. At the end of the session we will see who managed to train the best performing model, and what experimental design they used. \n",
    " * Does it make sense to represent the `month` and `day` features in the above way?\n",
    " * Should we decrease the number of variables that are being used?\n",
    " * Is there another model we can try?\n",
    " "
   ]
  },
  {
   "cell_type": "code",
   "execution_count": null,
   "metadata": {},
   "outputs": [],
   "source": []
  }
 ],
 "metadata": {
  "kernelspec": {
   "display_name": "Python [default]",
   "language": "python",
   "name": "python3"
  },
  "language_info": {
   "codemirror_mode": {
    "name": "ipython",
    "version": 3
   },
   "file_extension": ".py",
   "mimetype": "text/x-python",
   "name": "python",
   "nbconvert_exporter": "python",
   "pygments_lexer": "ipython3",
   "version": "3.6.10"
  }
 },
 "nbformat": 4,
 "nbformat_minor": 2
}
