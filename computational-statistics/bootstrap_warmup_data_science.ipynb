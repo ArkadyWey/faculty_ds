{
 "cells": [
  {
   "cell_type": "code",
   "execution_count": null,
   "id": "61713f6f-829e-4be0-bee8-ea4ba91dd5a4",
   "metadata": {},
   "outputs": [],
   "source": [
    "import matplotlib.pyplot as plt\n",
    "import pandas as pd\n",
    "import numpy as np\n",
    "\n",
    "from sklearn import datasets, linear_model\n",
    "from sklearn.metrics import mean_squared_error"
   ]
  },
  {
   "cell_type": "markdown",
   "id": "220dc6b6-331b-4cf0-9891-0c489892873e",
   "metadata": {},
   "source": [
    "### Overview\n",
    "\n",
    "We are going to illustrate the use of bootstrapping to evaluate model performance. "
   ]
  },
  {
   "cell_type": "code",
   "execution_count": null,
   "id": "f4abfd45-e364-4053-bb25-07ac9c6556f0",
   "metadata": {},
   "outputs": [],
   "source": [
    "diabetes_X, diabetes_y = datasets.load_diabetes(return_X_y=True)"
   ]
  },
  {
   "cell_type": "markdown",
   "id": "df824c68-43d2-4006-8f2d-c06751615909",
   "metadata": {},
   "source": [
    "Split the data into a train and test set:"
   ]
  },
  {
   "cell_type": "code",
   "execution_count": null,
   "id": "fccea2fb-6937-4de8-9471-4177f887ba5d",
   "metadata": {},
   "outputs": [],
   "source": [
    "test_size = 100\n",
    "diabetes_X_train = diabetes_X[:-test_size]\n",
    "diabetes_X_test = diabetes_X[-test_size:]\n",
    "\n",
    "diabetes_y_train = diabetes_y[:-test_size]\n",
    "diabetes_y_test = diabetes_y[-test_size:]"
   ]
  },
  {
   "cell_type": "markdown",
   "id": "b267ca5d-b9f8-4739-b59b-ad5dcdd5dcfe",
   "metadata": {},
   "source": [
    "Let's train a simple ML model:"
   ]
  },
  {
   "cell_type": "code",
   "execution_count": null,
   "id": "58b71cb6-45fb-4b79-95c4-f7806e636f17",
   "metadata": {},
   "outputs": [],
   "source": [
    "model = linear_model.LinearRegression()\n",
    "model.fit(diabetes_X_train, diabetes_y_train)\n",
    "diabetes_y_pred = model.predict(diabetes_X_test)\n",
    "rmse = mean_squared_error(diabetes_y_test, diabetes_y_pred, squared=False)\n",
    "print(f\"RMSE: {rmse:.2f}\")"
   ]
  },
  {
   "cell_type": "markdown",
   "id": "9552abc2-9ca7-4ebe-a3c8-f6860267f5df",
   "metadata": {},
   "source": [
    "Great, we have an error (RMSE), but how much could this vary if we saw a slightly different dataset of the same size?"
   ]
  },
  {
   "cell_type": "markdown",
   "id": "92463665-7688-4c2f-aad0-cbe2112dbbfb",
   "metadata": {},
   "source": [
    "### Bootstrap!\n",
    "\n",
    "We can use the bootstrap to answer this question!\n",
    "\n",
    "First, let's put the test set into a dataframe for convenience."
   ]
  },
  {
   "cell_type": "code",
   "execution_count": null,
   "id": "5470c6e5-163f-451c-a379-4a65859d9161",
   "metadata": {},
   "outputs": [],
   "source": [
    "test_df = pd.DataFrame(diabetes_X_test)\n",
    "test_df[\"preds\"] = model.predict(diabetes_X_test)\n",
    "test_df[\"y\"] = diabetes_y_test"
   ]
  },
  {
   "cell_type": "markdown",
   "id": "8c431b02-9e78-44c5-8d77-b9c5a87c0056",
   "metadata": {},
   "source": [
    "Now let's sample (with replacement) from our test set, predict on this sampled test set and calculate the error.\n",
    "\n",
    "**TODO:** finish the for loop by bootstrapping the test set."
   ]
  },
  {
   "cell_type": "code",
   "execution_count": null,
   "id": "08e9d02a-73a6-4872-9895-5697fbd7a5e5",
   "metadata": {},
   "outputs": [],
   "source": [
    "num_samples = 10_000\n",
    "errors = []\n",
    "for i in range(num_samples):\n",
    "    pass  # put your code here"
   ]
  },
  {
   "cell_type": "markdown",
   "id": "41258617-7b8a-4e64-a319-ade15c2537d0",
   "metadata": {},
   "source": [
    "Plot the distribution of errors, notice the large variation!"
   ]
  },
  {
   "cell_type": "code",
   "execution_count": null,
   "id": "688dbd96-3630-4055-8c4d-b61abcb55087",
   "metadata": {},
   "outputs": [],
   "source": [
    "if len(errors) > 0:\n",
    "    f, ax = plt.subplots(figsize=(12, 6))\n",
    "    ax.hist(errors, label=\"Bootstrap errors\", bins=25)\n",
    "    ax.axvline(rmse, label=\"original RMSE\", color=\"red\")\n",
    "    ax.legend(fontsize=14)\n",
    "    ax.set_title(f\"RMSE: {rmse:.2f} with std dev: {np.std(errors):.2f}\");"
   ]
  },
  {
   "cell_type": "markdown",
   "id": "ba75f25f-ced1-4e3f-847b-6216aa2500bd",
   "metadata": {},
   "source": [
    "**Extra:** vary the test set size and see what happens to the plot above - do you understand why?"
   ]
  },
  {
   "cell_type": "code",
   "execution_count": null,
   "id": "c367e888-da7b-4558-acc5-19000062bfd7",
   "metadata": {},
   "outputs": [],
   "source": []
  }
 ],
 "metadata": {
  "kernelspec": {
   "display_name": "Python [conda env:Python3] *",
   "language": "python",
   "name": "conda-env-Python3-py"
  },
  "language_info": {
   "codemirror_mode": {
    "name": "ipython",
    "version": 3
   },
   "file_extension": ".py",
   "mimetype": "text/x-python",
   "name": "python",
   "nbconvert_exporter": "python",
   "pygments_lexer": "ipython3"
  }
 },
 "nbformat": 4,
 "nbformat_minor": 5
}
