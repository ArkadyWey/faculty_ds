{
 "cells": [
  {
   "cell_type": "code",
   "execution_count": null,
   "id": "7c2d4a10-171b-477b-9885-e376b36b4e46",
   "metadata": {},
   "outputs": [],
   "source": [
    "import matplotlib.pyplot as plt\n",
    "import numpy as np\n",
    "\n",
    "from scipy import stats"
   ]
  },
  {
   "cell_type": "code",
   "execution_count": null,
   "id": "d3da50ae-09be-470c-8393-320c1054d74d",
   "metadata": {},
   "outputs": [],
   "source": [
    "def repeated_samples(arr, n_samples, sample_size, statistic):\n",
    "    \"\"\"For an input array, draw samples of size sample_size and calculate\n",
    "    a statistic of interest. We repeat this n_samples times.\"\"\"\n",
    "    samples = np.random.choice(arr, n_samples * sample_size)\n",
    "    sub_samples = samples.reshape(n_samples, sample_size)\n",
    "    return np.apply_along_axis(statistic, 1, sub_samples)"
   ]
  },
  {
   "cell_type": "markdown",
   "id": "4c959ce6-79de-4d7c-a97d-aa122db0e67e",
   "metadata": {},
   "source": [
    "### How well calibrated are bootstrap confidence intervals?"
   ]
  },
  {
   "cell_type": "markdown",
   "id": "b927c4e2-7a9a-4e3c-9aba-c6e5660a340b",
   "metadata": {},
   "source": [
    "We can assess how well calibrated bootstrap confidence intervals are by simulating how often they contain the true population value.\n",
    "\n",
    "To do this we'll perform the following steps:\n",
    "\n",
    "\n",
    "1. Define a population distribution \n",
    "2. Sample a dataset from the population distribution\n",
    "3. With this sample dataset, perform the bootstrap and calculate the confidence intervals (CIs) i.e. quantiles\n",
    "4. Repeat steps 2 and 3 `num_bs_procedures` times\n",
    "\n",
    "After we've done this we can check how many times the bootstrap CIs contained the true population value."
   ]
  },
  {
   "cell_type": "code",
   "execution_count": null,
   "id": "aef1376f-bb15-48bc-8171-a6b0a87ef793",
   "metadata": {},
   "outputs": [],
   "source": [
    "pop_mean = 5\n",
    "pop_scale = 5\n",
    "sample_size = 250\n",
    "statistic = np.mean\n",
    "\n",
    "population_dist = stats.norm(loc=pop_mean, scale=pop_scale)"
   ]
  },
  {
   "cell_type": "code",
   "execution_count": null,
   "id": "069a6538-e776-4ab4-9468-18f7b6708a8a",
   "metadata": {},
   "outputs": [],
   "source": [
    "num_bs_samples = 1_000  # each time we bootstrap, how many datasets to sample\n",
    "num_bs_procedures = 500  # number of times to repeat the bootstrap procedure\n",
    "ci_interval = 0.95\n",
    "alpha = 1 - ci_interval\n",
    "\n",
    "bs_quantiles = []\n",
    "for i in range(num_bs_procedures):\n",
    "    # In each BS iteration we sample from the population\n",
    "    samples = population_dist.rvs(size=sample_size)\n",
    "    \n",
    "    # For a given sample from the population, perform the bootstrap and calc the CIs:\n",
    "    bs_sampling_distn = repeated_samples(samples, num_bs_samples, sample_size, statistic) \n",
    "    quantiles = np.quantile(bs_sampling_distn, q=[alpha / 2, 1 - alpha / 2])\n",
    "    bs_quantiles.append(quantiles)\n",
    "bs_quantiles = np.array(bs_quantiles)\n",
    "coverage = np.mean((bs_quantiles[:, 0] < pop_mean) & (bs_quantiles[:, 1] > pop_mean))\n",
    "print(f\"Coverage: {coverage*100:.2f}% of BS intervals contained popn value in {ci_interval*100:.2f} % CI\")"
   ]
  },
  {
   "cell_type": "markdown",
   "id": "1636c97e-a011-4d65-9e4a-a272160433c8",
   "metadata": {},
   "source": [
    "We can plot the bootstrap CIs vs. the true population value - see how well-calibrated they are!"
   ]
  },
  {
   "cell_type": "code",
   "execution_count": null,
   "id": "335f7406-05a6-40aa-8ffe-1d9fe469cf19",
   "metadata": {},
   "outputs": [],
   "source": [
    "f, ax = plt.subplots(figsize=(20, 8))\n",
    "q_sorted = np.argsort(bs_quantiles[:, 0])\n",
    "\n",
    "ax.vlines(x=range(num_bs_procedures), ymin=bs_quantiles[q_sorted, 0], ymax=bs_quantiles[q_sorted, 1]);\n",
    "ax.axhline(pop_mean, color=\"red\");\n",
    "ax.set_title(f\"Coverage: {coverage*100:.2f}% of BS intervals contained population value at {ci_interval*100:.2f}% CI\");"
   ]
  },
  {
   "cell_type": "code",
   "execution_count": null,
   "id": "018c8b04-c7c5-4594-82a9-5f125d891a2e",
   "metadata": {},
   "outputs": [],
   "source": []
  }
 ],
 "metadata": {
  "kernelspec": {
   "display_name": "Python [conda env:Python3] *",
   "language": "python",
   "name": "conda-env-Python3-py"
  },
  "language_info": {
   "codemirror_mode": {
    "name": "ipython",
    "version": 3
   },
   "file_extension": ".py",
   "mimetype": "text/x-python",
   "name": "python",
   "nbconvert_exporter": "python",
   "pygments_lexer": "ipython3"
  }
 },
 "nbformat": 4,
 "nbformat_minor": 5
}
