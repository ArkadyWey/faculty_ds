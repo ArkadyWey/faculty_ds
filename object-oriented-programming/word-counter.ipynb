{
 "cells": [
  {
   "cell_type": "markdown",
   "metadata": {},
   "source": [
    "# Object Oriented Programming Exercise\n",
    "\n",
    "In this exercise, we'll implement a word counter class that can analyse some text and count the frequency of words in it. You should complete the class `WordCounter` below that:\n",
    "\n",
    "1. Initialises an attribute at instance creation time (in `__init__`) for storing the counts of word frequency.\n",
    "2. Has a method `count_words` that takes some text and counts the words in it. This method should take a single argument, a string.\n",
    "3. Has a method `frequency` that returns the number of occurrances of a word. This method should take a single argument, a string of the word being queried, and should return an integer.\n",
    "4. Has a method `top_words` that returns a list of the most common words. This method should take a single optional argument (defaulting to 1), an integer indicating the number of words to return, and should return a list of strings of the most frequent words, in descending order of frequency.\n",
    "\n",
    "## Stretch Goals\n",
    "\n",
    "To start off with, you should just split the input text by whitespace and count the occurrances of each string. Once this has done, you can try also making the counter case-insensitive and making it remove punctuation (specifically, all characters other than a-z and digits) from words.\n",
    "\n",
    "## Testing\n",
    "\n",
    "At the bottom of this notebook you'll find some tests that you can run on the code that use your `WordCount` class to analyse the complete works of William Shakespeare, and compare your computed results against the expected results.\n",
    "\n",
    "## Resources\n",
    "\n",
    "You may find these resources from the Python standard library documentation useful:\n",
    "\n",
    "* https://docs.python.org/3/library/stdtypes.html#string-methods\n",
    "* https://docs.python.org/3/library/re.html\n",
    "* https://docs.python.org/3/library/string.html"
   ]
  },
  {
   "cell_type": "code",
   "execution_count": null,
   "metadata": {},
   "outputs": [],
   "source": [
    "# Fetch data\n",
    "from pathlib import Path\n",
    "if not Path('shakespeare.txt').exists():\n",
    "    !wget https://s3-eu-west-1.amazonaws.com/faculty-client-teaching-materials/object-oriented-programming/shakespeare.txt"
   ]
  },
  {
   "cell_type": "code",
   "execution_count": null,
   "metadata": {},
   "outputs": [],
   "source": [
    "class WordCounter:\n",
    "    \"\"\"Count the frequency of words in some text.\"\"\"\n",
    "    \n",
    "    def __init__(self):\n",
    "        # Implement initialisation code here\n",
    "        \n",
    "    def count_words(self, text):\n",
    "        # Implement count_words here\n",
    "        \n",
    "    # Implement other methods here"
   ]
  },
  {
   "cell_type": "code",
   "execution_count": null,
   "metadata": {},
   "outputs": [],
   "source": [
    "# Example usage\n",
    "counter = WordCounter()\n",
    "counter.count_words(\"Foo bar foo foo. I love Python.\")\n",
    "\n",
    "print('Frequency of \"foo\":')\n",
    "print(counter.frequency(\"foo\"))\n",
    "\n",
    "print(\"Top words:\")\n",
    "print(counter.top_words(3))"
   ]
  },
  {
   "cell_type": "markdown",
   "metadata": {},
   "source": [
    "## Tests\n",
    "\n",
    "Run the cell below to check that your code works as expected. These tests assume that you have implemented the case-insensitive and punctuation removal stretch goals."
   ]
  },
  {
   "cell_type": "code",
   "execution_count": null,
   "metadata": {},
   "outputs": [],
   "source": [
    "counter = WordCounter()\n",
    "\n",
    "with open(\"shakespeare.txt\") as fp:\n",
    "    counter.count_words(fp.read())\n",
    "\n",
    "if counter.frequency(\"now\") == 2778:\n",
    "    print(\"PASS\")\n",
    "else:\n",
    "    print('FAIL: The frequency of \"now\" did not match that expected')\n",
    "\n",
    "if counter.frequency(\"Thee\") == 3178:\n",
    "    print(\"PASS\")\n",
    "else:\n",
    "    print('FAIL: The frequency of \"thee\" did not match that expected')\n",
    "\n",
    "if counter.top_words() == [\"the\"]:\n",
    "    print(\"PASS\")\n",
    "else:\n",
    "    print(\"FAIL: The calculated top words did not match those expected\")\n",
    "\n",
    "if counter.top_words(5) == [\"the\", \"and\", \"i\", \"to\", \"of\"]:\n",
    "    print(\"PASS\")\n",
    "else:\n",
    "    print(\"FAIL: The calculated top 5 words did not match those expected\")"
   ]
  }
 ],
 "metadata": {
  "kernelspec": {
   "display_name": "Python 3",
   "language": "python",
   "name": "python3"
  },
  "language_info": {
   "codemirror_mode": {
    "name": "ipython",
    "version": 3
   },
   "file_extension": ".py",
   "mimetype": "text/x-python",
   "name": "python",
   "nbconvert_exporter": "python",
   "pygments_lexer": "ipython3",
   "version": "3.6.10"
  }
 },
 "nbformat": 4,
 "nbformat_minor": 4
}
