{
 "cells": [
  {
   "cell_type": "code",
   "execution_count": null,
   "metadata": {},
   "outputs": [],
   "source": [
    "!pip install nb_black\n",
    "%load_ext nb_black"
   ]
  },
  {
   "cell_type": "markdown",
   "metadata": {},
   "source": [
    "# Introduction\n",
    "\n",
    "In the following exercises, you'll practice key skills in developing a logistic regression classifier. The dataset you'll use is from the classic [Titanic competition on Kaggle](https://www.kaggle.com/competitions/titanic/overview), containing information about passengers aboard the Titanic. The modelling objective is to use available features to predict whether a passenger survived or perished in the disaster. \n",
    "\n",
    "The format of this exercise notebook is similar to that of the linear regression notebook. You'll start by drawing your own decision boundary through feature space and then defining a logistic regression classifier. You'll then practice using the `sklearn` implementation of logistic regression and engineering more complex decision boundaries."
   ]
  },
  {
   "cell_type": "code",
   "execution_count": null,
   "metadata": {},
   "outputs": [],
   "source": [
    "# Packages and functions you may find useful\n",
    "import matplotlib.pyplot as plt\n",
    "import numpy as np\n",
    "import pandas as pd\n",
    "import seaborn as sns\n",
    "\n",
    "from sklearn.linear_model import LogisticRegression\n",
    "from sklearn.model_selection import train_test_split\n",
    "from sklearn.preprocessing import MinMaxScaler"
   ]
  },
  {
   "cell_type": "code",
   "execution_count": null,
   "metadata": {},
   "outputs": [],
   "source": [
    "# Load the titanic dataset\n",
    "data = pd.read_csv(\"titanic.csv\")"
   ]
  },
  {
   "cell_type": "markdown",
   "metadata": {},
   "source": [
    "# Explore and preprocess the data"
   ]
  },
  {
   "cell_type": "markdown",
   "metadata": {},
   "source": [
    "**Exercise:** Spend a little time exploring the dataset. What features do you think are predictive of survival? Are there potential issues to flag, e.g. missing data? Imbalanced classes?"
   ]
  },
  {
   "cell_type": "markdown",
   "metadata": {},
   "source": [
    "**Exercise:** Make a scatterplot of `Age` vs `Fare`, with points colored by survival status. Where would you draw a decision boundary? Is there any transformation we can apply to improve the separation of classes in the decision boundary?"
   ]
  },
  {
   "cell_type": "markdown",
   "metadata": {},
   "source": [
    "**Exercise:** Divide the data into training and test sets. A train-test split of at least 90-10 is recommended. You may want to further divide the data into 80-10-10 training-validation-test sets if you'd like to tune hyperparameters or select the best model in the end."
   ]
  },
  {
   "cell_type": "markdown",
   "metadata": {},
   "source": [
    "# Logistic regression on two variables"
   ]
  },
  {
   "cell_type": "markdown",
   "metadata": {},
   "source": [
    "In order to visualise the decsion boundary in feature space, we'll limit the number of features to two: `Age` and `Fare`, transformed as above. If we choose a linear decision boundary, our regression will be of the form\n",
    "$$P(Survived=1|Age, Fare, \\theta) = \\big( 1 + exp(\\theta_0 + \\theta_1 * Age + \\theta_2 * log(Fare) \\big)^{-1}.$$\n",
    "You can then decide on an operating point to binarise the model output."
   ]
  },
  {
   "cell_type": "markdown",
   "metadata": {},
   "source": [
    "## Drawing a decision boundary"
   ]
  },
  {
   "cell_type": "markdown",
   "metadata": {},
   "source": [
    "**Exercise:** Based on the plot above, draw your own decision boundary, linear or otherwise. Then define a logistic regression classifier based on your decision boundary and a choice of operating point. Evaluate the classification accuracy of your model. Does it outperform the naive baseline model that just predicts no one survived?"
   ]
  },
  {
   "cell_type": "markdown",
   "metadata": {},
   "source": [
    "## Sklearn implementation "
   ]
  },
  {
   "cell_type": "markdown",
   "metadata": {},
   "source": [
    "**Exercise:** Use the `sklearn` class `LogisticRegression` to fit a logistic regression model on `Age` and log transformed `Fare`, scaling the features beforehand if necessary. Plot the decision boundary from the fit. Evaluate the classification accuracy of the model and compare to the performance of your model above. Note that the default logistic regression in `sklearn` is L2 regularised, so you may want to experiment with different levels of regularisation."
   ]
  },
  {
   "cell_type": "markdown",
   "metadata": {},
   "source": [
    "## Polynomial logistic regression\n",
    "\n",
    "We may be able to achieve higher accuracy by introducing higher order features. But as always with a more complex model, we risk overfitting the model to the training data, so we may have to adjust the strength of regularisation."
   ]
  },
  {
   "cell_type": "markdown",
   "metadata": {},
   "source": [
    "**Exercise:** Engineer polynomial features in log `Fare` and/or `Age` and fit a logistic regression. You may want to experiment with the regularisation method and the strength of the regularisation parameter. Compare the contribution of each feature to the model prediction. Evaluate your model's performance, comparing to the performance of the model you developed above."
   ]
  },
  {
   "cell_type": "markdown",
   "metadata": {},
   "source": [
    "# Extension: develop your own regression model"
   ]
  },
  {
   "cell_type": "markdown",
   "metadata": {},
   "source": [
    "**Exercise:** Now that we've demonstrated the basics of logitstic regression, develop your own model with all the features in the dataset at your disposal. Compare the performance of your model to the peformance of the models we produced above. Keep in mind the following tips as you train and evaluate your model.\n",
    "* Consider one-hot-encoding categorical features.\n",
    "* Features on different scales should be transformed so that they're comparable.\n",
    "* If tuning a hyperparameter like the regularisation parameter, it's best practice to further divide your training set into training and validation sets or to cross validate."
   ]
  }
 ],
 "metadata": {
  "kernelspec": {
   "display_name": "Python [conda env:Python3] *",
   "language": "python",
   "name": "conda-env-Python3-py"
  },
  "language_info": {
   "codemirror_mode": {
    "name": "ipython",
    "version": 3
   },
   "file_extension": ".py",
   "mimetype": "text/x-python",
   "name": "python",
   "nbconvert_exporter": "python",
   "pygments_lexer": "ipython3",
   "version": "3.9.15"
  }
 },
 "nbformat": 4,
 "nbformat_minor": 2
}
