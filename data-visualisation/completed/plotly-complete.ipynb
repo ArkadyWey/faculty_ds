{
 "cells": [
  {
   "cell_type": "markdown",
   "metadata": {},
   "source": [
    "# Plotly"
   ]
  },
  {
   "cell_type": "code",
   "execution_count": null,
   "metadata": {},
   "outputs": [],
   "source": [
    "import numpy as np\n",
    "import pandas as pd\n",
    "import matplotlib.pyplot as plt\n",
    "\n",
    "import plotly.graph_objects as go\n",
    "from plotly.offline import init_notebook_mode, iplot"
   ]
  },
  {
   "cell_type": "markdown",
   "metadata": {},
   "source": [
    "### Initialise notebook mode"
   ]
  },
  {
   "cell_type": "code",
   "execution_count": null,
   "metadata": {},
   "outputs": [],
   "source": [
    "init_notebook_mode()"
   ]
  },
  {
   "cell_type": "markdown",
   "metadata": {},
   "source": [
    "### Read in `pokemon.csv ` from the resources folder to a dataframe"
   ]
  },
  {
   "cell_type": "code",
   "execution_count": null,
   "metadata": {},
   "outputs": [],
   "source": [
    "s3_path = \"https://s3-eu-west-1.amazonaws.com/faculty-client-teaching-materials/non-linear-algorithms/pokemon.csv\"\n",
    "\n",
    "# read in the data\n",
    "df = pd.read_csv(s3_path)"
   ]
  },
  {
   "cell_type": "code",
   "execution_count": null,
   "metadata": {},
   "outputs": [],
   "source": [
    "df.head()"
   ]
  },
  {
   "cell_type": "markdown",
   "metadata": {},
   "source": [
    "### Create a scatter plot from two continuous features"
   ]
  },
  {
   "cell_type": "markdown",
   "metadata": {},
   "source": [
    "To create a plot in Plotly, there are two key objects: `data` & `layout`.\n",
    "\n",
    "The API to create these objects is `plotly.graph_objects`, import here as `go`. To see what objects we can create using `go`, type `go.` and press tab in the cell below\n",
    "\n",
    "(Note: autocomplete will give you all the options available to you for that module. Other very useful Jupyter help can be found by entering `foo?`, which will bring up the doc string of `func`, and `foo??`, which will bring up the source code of `foo`. Try it on your favourite module below.)"
   ]
  },
  {
   "cell_type": "code",
   "execution_count": null,
   "metadata": {},
   "outputs": [],
   "source": [
    "go."
   ]
  },
  {
   "cell_type": "markdown",
   "metadata": {},
   "source": [
    "As you will see, there are a great deal of options to choose from. Here lets create a `Scatter` plot. The scatterplot creates the `data` object we need for our plot. \n",
    "\n",
    "So what do we need to pass to `Scatter`? Plotly's online documentation isn't very comprehensive, so it is actually best to use the doc string help when trying to create more complex plots."
   ]
  },
  {
   "cell_type": "code",
   "execution_count": null,
   "metadata": {},
   "outputs": [],
   "source": [
    "go.Scatter?"
   ]
  },
  {
   "cell_type": "markdown",
   "metadata": {},
   "source": [
    "The key arguments here are `x`, `y`, `mode` and `marker`. Pick two continuous features from the dataframe to generate a data object."
   ]
  },
  {
   "cell_type": "code",
   "execution_count": null,
   "metadata": {},
   "outputs": [],
   "source": [
    "# Use the plotly library to generate a scatter plot\n",
    "# use the kwargs x, y, mode and marker\n",
    "# Hint: marker takes a dictionary of kwargs\n",
    "data = go.Scatter(\n",
    "    x=df[\"Sp_Atk\"],\n",
    "    y=df[\"Speed\"],\n",
    "    mode=\"markers\",\n",
    "    marker=dict(color=\"blue\", size=5, opacity=0.5),\n",
    ")"
   ]
  },
  {
   "cell_type": "code",
   "execution_count": null,
   "metadata": {},
   "outputs": [],
   "source": [
    "# look at data object\n",
    "data"
   ]
  },
  {
   "cell_type": "markdown",
   "metadata": {},
   "source": [
    "We don't need to create a Layout object -- plotly will do this for us -- but if we wish to add axis labels for example, then we need to do so."
   ]
  },
  {
   "cell_type": "code",
   "execution_count": null,
   "metadata": {},
   "outputs": [],
   "source": [
    "go.Layout?"
   ]
  },
  {
   "cell_type": "code",
   "execution_count": null,
   "metadata": {},
   "outputs": [],
   "source": [
    "go.Layout.xaxis?"
   ]
  },
  {
   "cell_type": "markdown",
   "metadata": {},
   "source": [
    "Here we can see the sheer number of arguments each call has -- it is easy to get lost in it all.\n",
    "\n",
    "Set the axis labels for the x and y axis."
   ]
  },
  {
   "cell_type": "code",
   "execution_count": null,
   "metadata": {},
   "outputs": [],
   "source": [
    "# Create layout object to add axes labels\n",
    "# Hint: pass dictionaries to axes label arguments\n",
    "\n",
    "layout = go.Layout(xaxis=dict(title=\"Sp_Atk\"), yaxis=dict(title=\"Speed\"))"
   ]
  },
  {
   "cell_type": "code",
   "execution_count": null,
   "metadata": {},
   "outputs": [],
   "source": [
    "layout"
   ]
  },
  {
   "cell_type": "markdown",
   "metadata": {},
   "source": [
    "We can now pass the `data` and `layout` objects to `go.Figure`, which will create the figure object. Finally, we can plot the figure using `iplot`."
   ]
  },
  {
   "cell_type": "code",
   "execution_count": null,
   "metadata": {},
   "outputs": [],
   "source": [
    "fig = go.Figure(data, layout)\n",
    "iplot(fig)"
   ]
  },
  {
   "cell_type": "markdown",
   "metadata": {},
   "source": [
    "### Matplotlib comparison "
   ]
  },
  {
   "cell_type": "markdown",
   "metadata": {},
   "source": [
    "As a comparison of the APIs, see if you can make the same plot in matplotlib. "
   ]
  },
  {
   "cell_type": "code",
   "execution_count": null,
   "metadata": {},
   "outputs": [],
   "source": [
    "# Make the same plot using matplotlib\n",
    "plt.plot(\n",
    "    df[\"Sp_Atk\"].values, df[\"Speed\"].values, \"bo\", markersize=5, alpha=0.5\n",
    ")\n",
    "plt.xlabel(\"Sp_Atk\")\n",
    "plt.ylabel(\"Speed\")"
   ]
  },
  {
   "cell_type": "markdown",
   "metadata": {},
   "source": [
    "Does it look as good by default? (No). Is it interactive? (No). Is it easier to use? (Yes).  "
   ]
  },
  {
   "cell_type": "markdown",
   "metadata": {},
   "source": [
    "### Have a go at creating your own visualisations with Plotly"
   ]
  },
  {
   "cell_type": "markdown",
   "metadata": {},
   "source": [
    "Try making the points coloured by another feature? Try making the hovertext display information about another feature? Try putting a heatmap below the scatter plot?"
   ]
  },
  {
   "cell_type": "code",
   "execution_count": null,
   "metadata": {},
   "outputs": [],
   "source": [
    "df.columns"
   ]
  },
  {
   "cell_type": "code",
   "execution_count": null,
   "metadata": {},
   "outputs": [],
   "source": [
    "# Create scatter plot wth markers colour by a third feature\n",
    "# Add hovertext to the plot\n",
    "data = go.Scatter(\n",
    "    x=df[\"Sp_Atk\"],\n",
    "    y=df[\"Speed\"],\n",
    "    mode=\"markers\",\n",
    "    marker_color=df[\"Number\"],\n",
    "    hovertext=\"Pokedex Number: \" + df[\"Number\"].astype(str),\n",
    "    marker=dict(size=5, opacity=0.9),\n",
    ")\n",
    "layout = go.Layout(xaxis=dict(title=\"Sp_Atk\"), yaxis=dict(title=\"Speed\"))\n",
    "fig = go.Figure(data, layout)\n",
    "iplot(fig)"
   ]
  },
  {
   "cell_type": "code",
   "execution_count": null,
   "metadata": {},
   "outputs": [],
   "source": [
    "# Add a contour plot\n",
    "# Plot the scatter plot on top\n",
    "\n",
    "data1 = go.Scatter(\n",
    "    x=df[\"Sp_Atk\"],\n",
    "    y=df[\"Speed\"],\n",
    "    mode=\"markers\",\n",
    "    hovertext=\"Pokedex Number: \" + df[\"Number\"].astype(str),\n",
    "    marker=dict(color=\"white\", size=5, opacity=0.9),\n",
    ")\n",
    "data2 = go.Histogram2dContour(\n",
    "    x=df[\"Sp_Atk\"], y=df[\"Speed\"], contours=dict(coloring=\"heatmap\")\n",
    ")\n",
    "layout = go.Layout(xaxis=dict(title=\"Sp_Atk\"), yaxis=dict(title=\"Speed\"))\n",
    "fig = go.Figure([data2, data1], layout)\n",
    "iplot(fig)"
   ]
  },
  {
   "cell_type": "markdown",
   "metadata": {},
   "source": [
    "Plotly is commonly used for making dashboards, using the Dash API.\n",
    "\n",
    "To whet your appetite for next week, have a look at some dashboards made using plotly:\n",
    "\n",
    "https://dash-gallery.plotly.host/Portal/"
   ]
  }
 ],
 "metadata": {
  "kernelspec": {
   "display_name": "Python [conda env:Python3]",
   "language": "python",
   "name": "conda-env-Python3-py"
  },
  "language_info": {
   "codemirror_mode": {
    "name": "ipython",
    "version": 3
   },
   "file_extension": ".py",
   "mimetype": "text/x-python",
   "name": "python",
   "nbconvert_exporter": "python",
   "pygments_lexer": "ipython3",
   "version": "3.6.10"
  }
 },
 "nbformat": 4,
 "nbformat_minor": 2
}
