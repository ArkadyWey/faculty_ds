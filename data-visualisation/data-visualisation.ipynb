{
 "cells": [
  {
   "cell_type": "code",
   "execution_count": null,
   "metadata": {},
   "outputs": [],
   "source": [
    "import ipywidgets as widgets\n",
    "from IPython.display import display"
   ]
  },
  {
   "cell_type": "markdown",
   "metadata": {},
   "source": [
    "Widgets allow you to simply build interactive tools by giving you access to python objects that render in the browser:"
   ]
  },
  {
   "cell_type": "code",
   "execution_count": null,
   "metadata": {},
   "outputs": [],
   "source": [
    "dropdown = widgets.Dropdown(options=[\"Option 1\", \"Option 2\"])\n",
    "\n",
    "display(dropdown)"
   ]
  },
  {
   "cell_type": "code",
   "execution_count": null,
   "metadata": {},
   "outputs": [],
   "source": [
    "print(dropdown.value)"
   ]
  },
  {
   "cell_type": "code",
   "execution_count": null,
   "metadata": {},
   "outputs": [],
   "source": [
    "checkbox_1 = widgets.Checkbox(description=\"Tick me\")\n",
    "checkbox_2 = widgets.Checkbox(description=\"Me too\")\n",
    "\n",
    "display(checkbox_1, checkbox_2)"
   ]
  },
  {
   "cell_type": "code",
   "execution_count": null,
   "metadata": {},
   "outputs": [],
   "source": [
    "print(checkbox_1.value, checkbox_2.value)"
   ]
  },
  {
   "cell_type": "markdown",
   "metadata": {},
   "source": [
    "Building interactive tools!"
   ]
  },
  {
   "cell_type": "code",
   "execution_count": null,
   "metadata": {},
   "outputs": [],
   "source": [
    "import pandas as pd"
   ]
  },
  {
   "cell_type": "markdown",
   "metadata": {},
   "source": [
    "You will recognise this dataset:"
   ]
  },
  {
   "cell_type": "code",
   "execution_count": null,
   "metadata": {},
   "outputs": [],
   "source": [
    "s3_path = \"https://s3-eu-west-1.amazonaws.com/faculty-client-teaching-materials/non-linear-algorithms/pokemon.csv\"\n",
    "\n",
    "pokemon = pd.read_csv(s3_path)\n",
    "\n",
    "display(pokemon.head())"
   ]
  },
  {
   "cell_type": "markdown",
   "metadata": {},
   "source": [
    "Let's first make a static version of what we want to make interactive:"
   ]
  },
  {
   "cell_type": "code",
   "execution_count": null,
   "metadata": {},
   "outputs": [],
   "source": [
    "import matplotlib.pyplot as plt"
   ]
  },
  {
   "cell_type": "code",
   "execution_count": null,
   "metadata": {},
   "outputs": [],
   "source": [
    "def heatmap(\n",
    "    column_1=\"Type_1\",\n",
    "    column_2=\"Type_2\",\n",
    "    normalize_cols=False,\n",
    "    normalize_rows=False,\n",
    "):\n",
    "\n",
    "    if column_1 == column_2:\n",
    "        print(\"You need to choose different columns!\")\n",
    "        return\n",
    "\n",
    "    if normalize_cols and normalize_rows:\n",
    "        normalize = \"all\"\n",
    "    elif normalize_cols:\n",
    "        normalize = \"columns\"\n",
    "    elif normalize_rows:\n",
    "        normalize = \"index\"\n",
    "    else:\n",
    "        normalize = False\n",
    "\n",
    "    counts_df = pd.crosstab(\n",
    "        pokemon[column_1], pokemon[column_2], normalize=normalize\n",
    "    )\n",
    "\n",
    "    plt.figure(figsize=(7, 7))\n",
    "    plt.imshow(counts_df)\n",
    "    plt.yticks(range(len(counts_df)), counts_df.index)\n",
    "    plt.ylabel(column_1)\n",
    "    plt.xticks(range(len(counts_df.columns)), counts_df.columns, rotation=60)\n",
    "    plt.ylabel(column_1)\n",
    "    plt.show()"
   ]
  },
  {
   "cell_type": "markdown",
   "metadata": {},
   "source": [
    "Try the heatmap!"
   ]
  },
  {
   "cell_type": "code",
   "execution_count": null,
   "metadata": {},
   "outputs": [],
   "source": [
    "heatmap()"
   ]
  },
  {
   "cell_type": "markdown",
   "metadata": {},
   "source": [
    "In order to make it interactive with ipywidgets, you need to pass it into the `widgets.interactive_output` function, which also takes interactive elements as input:"
   ]
  },
  {
   "cell_type": "code",
   "execution_count": null,
   "metadata": {},
   "outputs": [],
   "source": [
    "column_1_selector = widgets.Dropdown(options=pokemon.columns, value=\"Type_1\")\n",
    "column_2_selector = widgets.Dropdown(options=pokemon.columns, value=\"Type_2\")\n",
    "\n",
    "interactive_heatmap = widgets.interactive_output(\n",
    "    heatmap, {\"column_1\": column_1_selector, \"column_2\": column_2_selector}\n",
    ")\n",
    "\n",
    "display(column_1_selector, column_2_selector, interactive_heatmap)"
   ]
  },
  {
   "cell_type": "markdown",
   "metadata": {},
   "source": [
    "__Exercise:__ Try doing the same thing, adding checkboxes for the normalization options."
   ]
  },
  {
   "cell_type": "code",
   "execution_count": null,
   "metadata": {},
   "outputs": [],
   "source": []
  },
  {
   "cell_type": "markdown",
   "metadata": {},
   "source": [
    "## Making custom control elements!\n",
    "\n",
    "You can use `widgets.HBox`, which is a box element that horizontally displays its children:"
   ]
  },
  {
   "cell_type": "code",
   "execution_count": null,
   "metadata": {},
   "outputs": [],
   "source": [
    "class CrosstabSelector(widgets.HBox):\n",
    "    def __init__(self, options=[], value=None):\n",
    "        super().__init__([])\n",
    "        self.dropdown = widgets.Dropdown(options=options, value=value)\n",
    "        self.normalize_checkbox = widgets.Checkbox(description=\"Normalize?\")\n",
    "        self.children = [self.dropdown, self.normalize_checkbox]\n",
    "\n",
    "\n",
    "display(CrosstabSelector(options=pokemon.columns, value=\"Type_1\"))"
   ]
  },
  {
   "cell_type": "markdown",
   "metadata": {},
   "source": [
    "Try using this to make the same crosstabbing tool:"
   ]
  },
  {
   "cell_type": "code",
   "execution_count": null,
   "metadata": {},
   "outputs": [],
   "source": []
  },
  {
   "cell_type": "markdown",
   "metadata": {},
   "source": [
    "Check out the [ipywidgets documentation](https://ipywidgets.readthedocs.io/en/stable/). Adding a bit of interactivity makes data exploration quicker, and means that you can communicate interactively, too."
   ]
  },
  {
   "cell_type": "code",
   "execution_count": null,
   "metadata": {},
   "outputs": [],
   "source": []
  }
 ],
 "metadata": {
  "kernelspec": {
   "display_name": "Python [conda env:Python3]",
   "language": "python",
   "name": "conda-env-Python3-py"
  },
  "language_info": {
   "codemirror_mode": {
    "name": "ipython",
    "version": 3
   },
   "file_extension": ".py",
   "mimetype": "text/x-python",
   "name": "python",
   "nbconvert_exporter": "python",
   "pygments_lexer": "ipython3",
   "version": "3.6.10"
  }
 },
 "nbformat": 4,
 "nbformat_minor": 2
}
