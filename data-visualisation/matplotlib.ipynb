{
 "cells": [
  {
   "cell_type": "markdown",
   "metadata": {},
   "source": [
    "# matplotlib.pyplot"
   ]
  },
  {
   "cell_type": "markdown",
   "metadata": {},
   "source": [
    "`Pyplot` is the default plotting library for python. It is highly customisable and (relatively) straightforward to make simple plots that can be iterated quickly. This notebook aims to give you a quick intro to using it, and clear up some of the confusion between the high level API and the object orientated API."
   ]
  },
  {
   "cell_type": "code",
   "execution_count": null,
   "metadata": {},
   "outputs": [],
   "source": [
    "import matplotlib.pyplot as plt\n",
    "import pandas as pd\n",
    "from sklearn.datasets import load_digits\n",
    "\n",
    "%matplotlib inline"
   ]
  },
  {
   "cell_type": "markdown",
   "metadata": {},
   "source": [
    "We will use the pokemon dataset (\"https://s3-eu-west-1.amazonaws.com/faculty-client-teaching-materials/non-linear-algorithms/pokemon.csv\") to do some example plots. First, read in the data using pandas and look at it using `df.head()`."
   ]
  },
  {
   "cell_type": "code",
   "execution_count": null,
   "metadata": {},
   "outputs": [],
   "source": [
    "s3_path = \"https://s3-eu-west-1.amazonaws.com/faculty-client-teaching-materials/non-linear-algorithms/pokemon.csv\"\n",
    "\n",
    "# read in the data\n",
    "df = "
   ]
  },
  {
   "cell_type": "code",
   "execution_count": null,
   "metadata": {
    "scrolled": true
   },
   "outputs": [],
   "source": [
    "df.head()"
   ]
  },
  {
   "cell_type": "markdown",
   "metadata": {},
   "source": [
    "### High level API "
   ]
  },
  {
   "cell_type": "markdown",
   "metadata": {},
   "source": [
    "The high level API is called using `plt`. It can be used for nearly all straightforward plots. Try using it to make a scatter plot of two features from the data. (Hint: `plt.scatter(x, y)`)"
   ]
  },
  {
   "cell_type": "code",
   "execution_count": null,
   "metadata": {},
   "outputs": [],
   "source": [
    "# your code here"
   ]
  },
  {
   "cell_type": "markdown",
   "metadata": {},
   "source": [
    "Using this API can seem quite odd - we didn't have to handle the plot object at all!? `pyplot` handles all of this under the hood. We can easily keep adding objects to the same axis object by making sequential calls to the same API. Try adding axes labels (hint: `plt.xlabel`)"
   ]
  },
  {
   "cell_type": "code",
   "execution_count": null,
   "metadata": {},
   "outputs": [],
   "source": [
    "# copy your code from above and add axes labels"
   ]
  },
  {
   "cell_type": "markdown",
   "metadata": {},
   "source": [
    "Extention ideas: Try setting the size of the figure? Try changeing the axis limits?"
   ]
  },
  {
   "cell_type": "markdown",
   "metadata": {},
   "source": [
    "### Object Orientated API "
   ]
  },
  {
   "cell_type": "markdown",
   "metadata": {},
   "source": [
    "To handle more complex plots just as those with many panels, we need to venture into the object orientated API. Nearly everything that can be achieved with the high level API can also be achieved with the OO version. Now however, we are dealing with `figure` and `axes` objects."
   ]
  },
  {
   "cell_type": "code",
   "execution_count": null,
   "metadata": {},
   "outputs": [],
   "source": [
    "fig, (ax1, ax2) = plt.subplots(1, 2);"
   ]
  },
  {
   "cell_type": "markdown",
   "metadata": {},
   "source": [
    "Here we can see that we have created a figure object, `fig` and two axes objects `ax1` and `ax2`. The figure object handles the layout of the figure, while the axes objects are related to the individual plots. Lets add some plots to this figure. The calls for the axes objects are (in most cases) the same as for the high level API (watch out for things like `xlim` and `xlabel`, which become `set_xlim` and `set_xlabel`). Try making a histogram in one subplot (`hist`), and a horizontal bar plot (`barh`) in the other (you may need to use a `groupby` to create data for the bar plot)."
   ]
  },
  {
   "cell_type": "code",
   "execution_count": null,
   "metadata": {},
   "outputs": [],
   "source": [
    "# use df.groupby to generate data for the bar plot\n",
    "data = df.groupby(\"Type_1\").mean()[\"Height_m\"]"
   ]
  },
  {
   "cell_type": "code",
   "execution_count": null,
   "metadata": {},
   "outputs": [],
   "source": [
    "data"
   ]
  },
  {
   "cell_type": "code",
   "execution_count": null,
   "metadata": {},
   "outputs": [],
   "source": [
    "# create a figure with two subplots, make on a histogram, and one a horizontal bar plot.\n",
    "# Give them some axes labels, and manually choose the axes limits\n",
    "fig, (ax1, ax2) = plt.subplots(1, 2, figsize=(15, 5))\n",
    "\n",
    "ax1.hist(df[\"Height_m\"].values, range=(0, 15), bins=15)\n",
    "ax1.set_xlabel(\"Height\")\n",
    "ax1.set_ylabel(\"Frequency\")\n",
    "ax1.set_xlim(0, 15)\n",
    "ax1.set_ylim(0, 400)\n",
    "\n",
    "ax2.barh(data.index, data.values)\n",
    "ax2.set_ylabel(\"Type_1\")\n",
    "ax2.set_xlabel(\"Height\")\n",
    "fig.show()"
   ]
  },
  {
   "cell_type": "markdown",
   "metadata": {},
   "source": [
    "### Plotting 2D data"
   ]
  },
  {
   "cell_type": "markdown",
   "metadata": {},
   "source": [
    "Here we use the MNIST data (small version) to show how we can plot 2D data."
   ]
  },
  {
   "cell_type": "code",
   "execution_count": null,
   "metadata": {},
   "outputs": [],
   "source": [
    "digits = load_digits()[\"images\"]"
   ]
  },
  {
   "cell_type": "markdown",
   "metadata": {},
   "source": [
    "We can use `imshow` to plot 2D data"
   ]
  },
  {
   "cell_type": "code",
   "execution_count": null,
   "metadata": {},
   "outputs": [],
   "source": [
    "plt.imshow(digits[0], cmap=\"gray\")\n",
    "plt.axis(\"off\")\n",
    "plt.show()"
   ]
  },
  {
   "cell_type": "markdown",
   "metadata": {},
   "source": [
    "Try plotting 25 digits in a 5x5 grid. (Hint: assign all the axes objects to one object, then use `ax = ax.ravel()` to turn them into an iterable list of axis)."
   ]
  },
  {
   "cell_type": "code",
   "execution_count": null,
   "metadata": {},
   "outputs": [],
   "source": [
    "# Create a 5x5 grid, then iterate over the axes object to plot the digits"
   ]
  }
 ],
 "metadata": {
  "kernelspec": {
   "display_name": "Python [conda env:Python3]",
   "language": "python",
   "name": "conda-env-Python3-py"
  },
  "language_info": {
   "codemirror_mode": {
    "name": "ipython",
    "version": 3
   },
   "file_extension": ".py",
   "mimetype": "text/x-python",
   "name": "python",
   "nbconvert_exporter": "python",
   "pygments_lexer": "ipython3",
   "version": "3.6.10"
  }
 },
 "nbformat": 4,
 "nbformat_minor": 2
}
