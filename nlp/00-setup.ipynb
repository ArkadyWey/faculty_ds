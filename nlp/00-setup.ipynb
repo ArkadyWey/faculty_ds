{
 "cells": [
  {
   "cell_type": "markdown",
   "metadata": {},
   "source": [
    "# Introduction to Natural Language Processing\n",
    "## 0. Setup"
   ]
  },
  {
   "cell_type": "markdown",
   "metadata": {},
   "source": [
    "Welcome to the nlp course. Before you get started you need to make sure you have all the relevant packages installed. This line will install all the python packages."
   ]
  },
  {
   "cell_type": "code",
   "execution_count": null,
   "metadata": {},
   "outputs": [],
   "source": [
    "!pip install -r requirements.txt"
   ]
  },
  {
   "cell_type": "markdown",
   "metadata": {},
   "source": [
    "Next, we'll download some data that will be used as part of the course:"
   ]
  },
  {
   "cell_type": "code",
   "execution_count": null,
   "metadata": {},
   "outputs": [],
   "source": [
    "bucket_root = (\n",
    "    \"https://s3-eu-west-1.amazonaws.com/faculty-client-teaching-materials/nlp/\"\n",
    ")\n",
    "\n",
    "!for FILE in similarities.pkl survey_responses.csv test_tweets.pkl tweets.pkl; do wget {bucket_root}$$FILE; done"
   ]
  },
  {
   "cell_type": "markdown",
   "metadata": {},
   "source": [
    "You're almost ready to go, except you need one more thing. In the exercises we'll use a library called `spacy`. This is good for lots of things nlp-related, but we'll use it to calculate [GloVe](https://nlp.stanford.edu/projects/glove/) embeddings. To do this, we'll need to also load a model from the web (this might take a little time)."
   ]
  },
  {
   "cell_type": "code",
   "execution_count": null,
   "metadata": {},
   "outputs": [],
   "source": [
    "!python -m spacy download en_core_web_lg"
   ]
  },
  {
   "cell_type": "markdown",
   "metadata": {},
   "source": [
    "Once this has run you should be able to load the model in. Try running the cell below."
   ]
  },
  {
   "cell_type": "code",
   "execution_count": null,
   "metadata": {},
   "outputs": [],
   "source": [
    "import spacy\n",
    "\n",
    "\n",
    "spacy.load(\"en_core_web_lg\")"
   ]
  },
  {
   "cell_type": "markdown",
   "metadata": {},
   "source": [
    "You've may find that something has gone wrong - `spacy` might be unable to find the model you needed. If there was no error then you're ready to go. If there was, try restarting the kernel of your notebook; to do this click on \"Kernel\" in the toolbar at the top of the notebook and select \"Restart\". Now try running **just** the above cell again - you should now be able to load the model."
   ]
  },
  {
   "cell_type": "markdown",
   "metadata": {},
   "source": [
    "**You're now ready to get started!**"
   ]
  }
 ],
 "metadata": {
  "kernelspec": {
   "display_name": "Python 3",
   "language": "python",
   "name": "python3"
  },
  "language_info": {
   "codemirror_mode": {
    "name": "ipython",
    "version": 3
   },
   "file_extension": ".py",
   "mimetype": "text/x-python",
   "name": "python",
   "nbconvert_exporter": "python",
   "pygments_lexer": "ipython3",
   "version": "3.8.3"
  }
 },
 "nbformat": 4,
 "nbformat_minor": 4
}
