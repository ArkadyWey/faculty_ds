{
 "cells": [
  {
   "cell_type": "markdown",
   "metadata": {},
   "source": [
    "# Introduction to Natural Language Processing\n",
    "## 3. Supervised Learning"
   ]
  },
  {
   "cell_type": "code",
   "execution_count": null,
   "metadata": {},
   "outputs": [],
   "source": [
    "import matplotlib.pyplot as plt\n",
    "import numpy as np\n",
    "import pandas as pd\n",
    "\n",
    "from util import clean_tweet, plot_confusion_matrix, evaluate_model\n",
    "\n",
    "# dictionary of colours for making nice plots later\n",
    "PARTY_COLOURS = {\"trump\": \"#E91D0E\", \"obama\": \"#00A6EF\"}\n",
    "\n",
    "%matplotlib inline"
   ]
  },
  {
   "cell_type": "markdown",
   "metadata": {},
   "source": [
    "## Data Cleaning"
   ]
  },
  {
   "cell_type": "code",
   "execution_count": null,
   "metadata": {},
   "outputs": [],
   "source": [
    "df = pd.read_pickle(\"tweets.pkl\")\n",
    "df[\"text\"] = df[\"text\"].map(clean_tweet)"
   ]
  },
  {
   "cell_type": "code",
   "execution_count": null,
   "metadata": {},
   "outputs": [],
   "source": [
    "df.head()"
   ]
  },
  {
   "cell_type": "markdown",
   "metadata": {},
   "source": [
    "## Supervised Learning\n",
    "\n",
    "Given our vector representations of text data, we can train any number of machine learning models to try and classify Trump vs. Obama tweets. Given that we tend to have very large feature vectors, it's generally good to use models that are not prone to overfitting when you have more features than samples. Naive Bayes and SVMs are good choices.\n",
    "\n",
    "**Exercise: Your task is to try and train the best classifier to distinguish Obama/Trump tweets that you can. We have held out 600 tweets from the dataset which will be used to test your models.**"
   ]
  },
  {
   "cell_type": "code",
   "execution_count": null,
   "metadata": {},
   "outputs": [],
   "source": [
    "from sklearn.feature_extraction.text import CountVectorizer\n",
    "from sklearn.model_selection import train_test_split\n",
    "from sklearn.neighbors import KNeighborsClassifier\n",
    "from sklearn.pipeline import Pipeline"
   ]
  },
  {
   "cell_type": "code",
   "execution_count": null,
   "metadata": {},
   "outputs": [],
   "source": [
    "# create a vectorizer\n",
    "count_vectorizer = CountVectorizer(\n",
    "    ngram_range=(1, 1), max_features=10, max_df=0.6\n",
    ")\n",
    "\n",
    "# create some classifier\n",
    "knn = KNeighborsClassifier()\n",
    "\n",
    "# create a pipeline\n",
    "clf = Pipeline(steps=[(\"count\", count_vectorizer), (\"knn\", knn)])\n",
    "\n",
    "# do a train/test split to assess our model\n",
    "df_train, df_test = train_test_split(df, test_size=0.2, random_state=42)\n",
    "\n",
    "# train the model\n",
    "clf.fit(df_train[\"text\"], df_train[\"label\"])\n",
    "\n",
    "# assess the model\n",
    "preds = clf.predict(df_test[\"text\"])\n",
    "score = clf.score(df_test[\"text\"], df_test[\"label\"])\n",
    "print(f\"Model's accuracy is {score:.3f}\")\n",
    "\n",
    "f, ax = plot_confusion_matrix(\n",
    "    df_test[\"label\"], preds, classes=[\"Obama\", \"Trump\"]\n",
    ")"
   ]
  },
  {
   "cell_type": "markdown",
   "metadata": {},
   "source": [
    "### Evaluate your model\n",
    "\n",
    "When you're happy with your classifier, **and only then**, you can evaluate its performance against the hold out set. To do so run the cell bellow."
   ]
  },
  {
   "cell_type": "code",
   "execution_count": null,
   "metadata": {},
   "outputs": [],
   "source": [
    "evaluate_model(clf)\n",
    "plt.show()"
   ]
  },
  {
   "cell_type": "code",
   "execution_count": null,
   "metadata": {},
   "outputs": [],
   "source": []
  }
 ],
 "metadata": {
  "kernelspec": {
   "display_name": "Python 3",
   "language": "python",
   "name": "python3"
  },
  "language_info": {
   "codemirror_mode": {
    "name": "ipython",
    "version": 3
   },
   "file_extension": ".py",
   "mimetype": "text/x-python",
   "name": "python",
   "nbconvert_exporter": "python",
   "pygments_lexer": "ipython3",
   "version": "3.8.3"
  }
 },
 "nbformat": 4,
 "nbformat_minor": 4
}
